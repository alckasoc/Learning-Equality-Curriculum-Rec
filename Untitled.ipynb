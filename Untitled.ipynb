{
 "cells": [
  {
   "cell_type": "code",
   "execution_count": 1,
   "id": "c2dec777-b59f-4e82-96b5-96da65ba061b",
   "metadata": {},
   "outputs": [],
   "source": [
    "import os\n",
    "\n",
    "os.environ[\"KAGGLE_USERNAME\"] = \"vincenttu\"\n",
    "os.environ[\"KAGGLE_KEY\"] = \"d8cb10c6ebfb6529afda64a2a04745f7\"\n",
    "\n",
    "import kaggle"
   ]
  },
  {
   "cell_type": "code",
   "execution_count": 2,
   "id": "452609d1-757f-4628-a4d5-bfce3bc195fe",
   "metadata": {},
   "outputs": [
    {
     "name": "stdout",
     "output_type": "stream",
     "text": [
      "/home/jovyan/talmodata-smb/vincent/Learning-Equality-Curriculum-Rec/input\n",
      "Downloading lecr0297train.zip to /home/jovyan/talmodata-smb/vincent/Learning-Equality-Curriculum-Rec/input\n",
      " 85%|████████████████████████████████▏     | 12.0M/14.2M [00:00<00:00, 20.0MB/s]\n",
      "100%|██████████████████████████████████████| 14.2M/14.2M [00:00<00:00, 21.3MB/s]\n",
      "Archive:  lecr0297train.zip\n",
      "  inflating: train.csv               fchmod (file attributes) error: Operation not permitted\n",
      " (warning) cannot set modif./access times\n",
      "          Operation not permitted\n",
      "/home/jovyan/talmodata-smb/vincent/Learning-Equality-Curriculum-Rec\n"
     ]
    }
   ],
   "source": [
    "%cd input/\n",
    "!kaggle datasets download -d vincenttu/lecr0297train\n",
    "!unzip lecr0297train.zip\n",
    "!rm lecr0297train.zip\n",
    "%cd .."
   ]
  },
  {
   "cell_type": "code",
   "execution_count": null,
   "id": "d394e1a3-b8ff-4c0d-ba69-4b5dc6eaed4c",
   "metadata": {},
   "outputs": [],
   "source": []
  }
 ],
 "metadata": {
  "kernelspec": {
   "display_name": "python37",
   "language": "python",
   "name": "python37"
  },
  "language_info": {
   "codemirror_mode": {
    "name": "ipython",
    "version": 3
   },
   "file_extension": ".py",
   "mimetype": "text/x-python",
   "name": "python",
   "nbconvert_exporter": "python",
   "pygments_lexer": "ipython3",
   "version": "3.7.12"
  }
 },
 "nbformat": 4,
 "nbformat_minor": 5
}
