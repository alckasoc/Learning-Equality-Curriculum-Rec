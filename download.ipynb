{
 "cells": [
  {
   "cell_type": "code",
   "execution_count": 3,
   "id": "c2dec777-b59f-4e82-96b5-96da65ba061b",
   "metadata": {},
   "outputs": [],
   "source": [
    "import os\n",
    "\n",
    "os.environ[\"KAGGLE_USERNAME\"] = \"vincenttu\"\n",
    "os.environ[\"KAGGLE_KEY\"] = \"\"\n",
    "\n",
    "import kaggle"
   ]
  },
  {
   "cell_type": "code",
   "execution_count": 2,
   "id": "452609d1-757f-4628-a4d5-bfce3bc195fe",
   "metadata": {},
   "outputs": [
    {
     "name": "stdout",
     "output_type": "stream",
     "text": [
      "/home/jovyan/talmodata-smb/vincent/Learning-Equality-Curriculum-Rec/input\n",
      "Downloading lecr0297train.zip to /home/jovyan/talmodata-smb/vincent/Learning-Equality-Curriculum-Rec/input\n",
      " 85%|████████████████████████████████▏     | 12.0M/14.2M [00:00<00:00, 20.0MB/s]\n",
      "100%|██████████████████████████████████████| 14.2M/14.2M [00:00<00:00, 21.3MB/s]\n",
      "Archive:  lecr0297train.zip\n",
      "  inflating: train.csv               fchmod (file attributes) error: Operation not permitted\n",
      " (warning) cannot set modif./access times\n",
      "          Operation not permitted\n",
      "/home/jovyan/talmodata-smb/vincent/Learning-Equality-Curriculum-Rec\n"
     ]
    }
   ],
   "source": [
    "%cd input/\n",
    "!kaggle datasets download -d vincenttu/lecr0297train\n",
    "!unzip lecr0297train.zip\n",
    "!rm lecr0297train.zip\n",
    "%cd .."
   ]
  },
  {
   "cell_type": "code",
   "execution_count": 4,
   "id": "d394e1a3-b8ff-4c0d-ba69-4b5dc6eaed4c",
   "metadata": {},
   "outputs": [
    {
     "name": "stdout",
     "output_type": "stream",
     "text": [
      "/home/jovyan/talmodata-smb/vincent/Learning-Equality-Curriculum-Rec/input\n",
      "Downloading model71.zip to /home/jovyan/talmodata-smb/vincent/Learning-Equality-Curriculum-Rec/input\n",
      "100%|██████████████████████████████████████▉| 6.18G/6.19G [01:08<00:00, 105MB/s]\n",
      "100%|██████████████████████████████████████| 6.19G/6.19G [01:13<00:00, 90.7MB/s]\n",
      "Archive:  model71.zip\n",
      "  inflating: config.pth              fchmod (file attributes) error: Operation not permitted\n",
      " (warning) cannot set modif./access times\n",
      "          Operation not permitted\n",
      "  inflating: microsoft-deberta-v3-large_fold0_best.pth  fchmod (file attributes) error: Operation not permitted\n",
      " (warning) cannot set modif./access times\n",
      "          Operation not permitted\n",
      "  inflating: microsoft-deberta-v3-large_fold1_best.pth  fchmod (file attributes) error: Operation not permitted\n",
      " (warning) cannot set modif./access times\n",
      "          Operation not permitted\n",
      "  inflating: microsoft-deberta-v3-large_fold2_best.pth  fchmod (file attributes) error: Operation not permitted\n",
      " (warning) cannot set modif./access times\n",
      "          Operation not permitted\n",
      "  inflating: microsoft-deberta-v3-large_fold3_best.pth  fchmod (file attributes) error: Operation not permitted\n",
      " (warning) cannot set modif./access times\n",
      "          Operation not permitted\n",
      "  inflating: microsoft-deberta-v3-large_fold4_best.pth  fchmod (file attributes) error: Operation not permitted\n",
      " (warning) cannot set modif./access times\n",
      "          Operation not permitted\n",
      "  inflating: tokenizer/added_tokens.json  fchmod (file attributes) error: Operation not permitted\n",
      " (warning) cannot set modif./access times\n",
      "          Operation not permitted\n",
      "  inflating: tokenizer/special_tokens_map.json  fchmod (file attributes) error: Operation not permitted\n",
      " (warning) cannot set modif./access times\n",
      "          Operation not permitted\n",
      "  inflating: tokenizer/spm.model     fchmod (file attributes) error: Operation not permitted\n",
      " (warning) cannot set modif./access times\n",
      "          Operation not permitted\n",
      "  inflating: tokenizer/tokenizer.json  fchmod (file attributes) error: Operation not permitted\n",
      " (warning) cannot set modif./access times\n",
      "          Operation not permitted\n",
      "  inflating: tokenizer/tokenizer_config.json  fchmod (file attributes) error: Operation not permitted\n",
      " (warning) cannot set modif./access times\n",
      "          Operation not permitted\n",
      "/home/jovyan/talmodata-smb/vincent/Learning-Equality-Curriculum-Rec\n"
     ]
    }
   ],
   "source": [
    "%cd input/\n",
    "!mkdir model71/\n",
    "%cd model71/\n",
    "!kaggle datasets download -d evgeniimaslov2/model71\n",
    "!unzip model71.zip\n",
    "!rm model71.zip\n",
    "%cd ../../"
   ]
  },
  {
   "cell_type": "code",
   "execution_count": 5,
   "id": "21c33b76-4865-4dbf-b551-e2f447e25b7e",
   "metadata": {},
   "outputs": [
    {
     "name": "stdout",
     "output_type": "stream",
     "text": [
      "/home/jovyan/talmodata-smb/vincent/Learning-Equality-Curriculum-Rec/input\n",
      "/home/jovyan/talmodata-smb/vincent/Learning-Equality-Curriculum-Rec/input/model70\n",
      "Downloading model70.zip to /home/jovyan/talmodata-smb/vincent/Learning-Equality-Curriculum-Rec/input/model70\n",
      "100%|██████████████████████████████████████▉| 5.93G/5.94G [01:05<00:00, 120MB/s]\n",
      "100%|██████████████████████████████████████| 5.94G/5.94G [01:09<00:00, 91.6MB/s]\n",
      "Archive:  model70.zip\n",
      "  inflating: config.pth              fchmod (file attributes) error: Operation not permitted\n",
      " (warning) cannot set modif./access times\n",
      "          Operation not permitted\n",
      "  inflating: microsoft-deberta-v3-large_fold0_best.pth  fchmod (file attributes) error: Operation not permitted\n",
      " (warning) cannot set modif./access times\n",
      "          Operation not permitted\n",
      "  inflating: microsoft-deberta-v3-large_fold1_best.pth  fchmod (file attributes) error: Operation not permitted\n",
      " (warning) cannot set modif./access times\n",
      "          Operation not permitted\n",
      "  inflating: microsoft-deberta-v3-large_fold2_best.pth  fchmod (file attributes) error: Operation not permitted\n",
      " (warning) cannot set modif./access times\n",
      "          Operation not permitted\n",
      "  inflating: microsoft-deberta-v3-large_fold3_best.pth  fchmod (file attributes) error: Operation not permitted\n",
      " (warning) cannot set modif./access times\n",
      "          Operation not permitted\n",
      "  inflating: microsoft-deberta-v3-large_fold4_best.pth  fchmod (file attributes) error: Operation not permitted\n",
      " (warning) cannot set modif./access times\n",
      "          Operation not permitted\n",
      "  inflating: tokenizer/added_tokens.json  fchmod (file attributes) error: Operation not permitted\n",
      " (warning) cannot set modif./access times\n",
      "          Operation not permitted\n",
      "  inflating: tokenizer/special_tokens_map.json  fchmod (file attributes) error: Operation not permitted\n",
      " (warning) cannot set modif./access times\n",
      "          Operation not permitted\n",
      "  inflating: tokenizer/spm.model     fchmod (file attributes) error: Operation not permitted\n",
      " (warning) cannot set modif./access times\n",
      "          Operation not permitted\n",
      "  inflating: tokenizer/tokenizer.json  fchmod (file attributes) error: Operation not permitted\n",
      " (warning) cannot set modif./access times\n",
      "          Operation not permitted\n",
      "  inflating: tokenizer/tokenizer_config.json  fchmod (file attributes) error: Operation not permitted\n",
      " (warning) cannot set modif./access times\n",
      "          Operation not permitted\n",
      "/home/jovyan/talmodata-smb/vincent/Learning-Equality-Curriculum-Rec\n"
     ]
    }
   ],
   "source": [
    "%cd input/\n",
    "!mkdir model70/\n",
    "%cd model70/\n",
    "!kaggle datasets download -d evgeniimaslov2/model70\n",
    "!unzip model70.zip\n",
    "!rm model70.zip\n",
    "%cd ../../"
   ]
  },
  {
   "cell_type": "code",
   "execution_count": 6,
   "id": "50f6fcfe-03c0-4137-afce-986893872c61",
   "metadata": {},
   "outputs": [
    {
     "name": "stdout",
     "output_type": "stream",
     "text": [
      "/home/jovyan/talmodata-smb/vincent/Learning-Equality-Curriculum-Rec/input\n",
      "/home/jovyan/talmodata-smb/vincent/Learning-Equality-Curriculum-Rec/input/model68\n",
      "Downloading model68.zip to /home/jovyan/talmodata-smb/vincent/Learning-Equality-Curriculum-Rec/input/model68\n",
      "100%|█████████████████████████████████████▉| 6.01G/6.01G [01:09<00:00, 40.6MB/s]\n",
      "100%|██████████████████████████████████████| 6.01G/6.01G [01:12<00:00, 88.6MB/s]\n",
      "Archive:  model68.zip\n",
      "  inflating: config.pth              fchmod (file attributes) error: Operation not permitted\n",
      " (warning) cannot set modif./access times\n",
      "          Operation not permitted\n",
      "  inflating: microsoft-deberta-v3-large_fold0_best.pth  fchmod (file attributes) error: Operation not permitted\n",
      " (warning) cannot set modif./access times\n",
      "          Operation not permitted\n",
      "  inflating: microsoft-deberta-v3-large_fold1_best.pth  fchmod (file attributes) error: Operation not permitted\n",
      " (warning) cannot set modif./access times\n",
      "          Operation not permitted\n",
      "  inflating: microsoft-deberta-v3-large_fold2_best.pth  fchmod (file attributes) error: Operation not permitted\n",
      " (warning) cannot set modif./access times\n",
      "          Operation not permitted\n",
      "  inflating: microsoft-deberta-v3-large_fold3_best.pth  fchmod (file attributes) error: Operation not permitted\n",
      " (warning) cannot set modif./access times\n",
      "          Operation not permitted\n",
      "  inflating: microsoft-deberta-v3-large_fold4_best.pth  fchmod (file attributes) error: Operation not permitted\n",
      " (warning) cannot set modif./access times\n",
      "          Operation not permitted\n",
      "  inflating: tokenizer/added_tokens.json  fchmod (file attributes) error: Operation not permitted\n",
      " (warning) cannot set modif./access times\n",
      "          Operation not permitted\n",
      "  inflating: tokenizer/special_tokens_map.json  fchmod (file attributes) error: Operation not permitted\n",
      " (warning) cannot set modif./access times\n",
      "          Operation not permitted\n",
      "  inflating: tokenizer/spm.model     fchmod (file attributes) error: Operation not permitted\n",
      " (warning) cannot set modif./access times\n",
      "          Operation not permitted\n",
      "  inflating: tokenizer/tokenizer.json  fchmod (file attributes) error: Operation not permitted\n",
      " (warning) cannot set modif./access times\n",
      "          Operation not permitted\n",
      "  inflating: tokenizer/tokenizer_config.json  fchmod (file attributes) error: Operation not permitted\n",
      " (warning) cannot set modif./access times\n",
      "          Operation not permitted\n",
      "/home/jovyan/talmodata-smb/vincent/Learning-Equality-Curriculum-Rec\n"
     ]
    }
   ],
   "source": [
    "%cd input/\n",
    "!mkdir model68/\n",
    "%cd model68/\n",
    "!kaggle datasets download -d evgeniimaslov2/model68\n",
    "!unzip model68.zip\n",
    "!rm model68.zip\n",
    "%cd ../../"
   ]
  },
  {
   "cell_type": "code",
   "execution_count": 7,
   "id": "61e04ac7-b3c1-4b54-9ea5-31fd673fb8d6",
   "metadata": {},
   "outputs": [
    {
     "name": "stdout",
     "output_type": "stream",
     "text": [
      "/home/jovyan/talmodata-smb/vincent/Learning-Equality-Curriculum-Rec/input\n",
      "/home/jovyan/talmodata-smb/vincent/Learning-Equality-Curriculum-Rec/input/model23\n",
      "Downloading model23.zip to /home/jovyan/talmodata-smb/vincent/Learning-Equality-Curriculum-Rec/input/model23\n",
      "100%|█████████████████████████████████████▉| 7.21G/7.21G [01:27<00:00, 91.0MB/s]\n",
      "100%|██████████████████████████████████████| 7.21G/7.21G [01:34<00:00, 82.2MB/s]\n",
      "Archive:  model23.zip\n",
      "  inflating: config.pth              fchmod (file attributes) error: Operation not permitted\n",
      " (warning) cannot set modif./access times\n",
      "          Operation not permitted\n",
      "  inflating: microsoft-deberta-v3-large_fold0_best.pth  fchmod (file attributes) error: Operation not permitted\n",
      " (warning) cannot set modif./access times\n",
      "          Operation not permitted\n",
      "  inflating: microsoft-deberta-v3-large_fold1_best.pth  fchmod (file attributes) error: Operation not permitted\n",
      " (warning) cannot set modif./access times\n",
      "          Operation not permitted\n",
      "  inflating: microsoft-deberta-v3-large_fold2_best.pth  fchmod (file attributes) error: Operation not permitted\n",
      " (warning) cannot set modif./access times\n",
      "          Operation not permitted\n",
      "  inflating: microsoft-deberta-v3-large_fold3_best.pth  fchmod (file attributes) error: Operation not permitted\n",
      " (warning) cannot set modif./access times\n",
      "          Operation not permitted\n",
      "  inflating: microsoft-deberta-v3-large_fold4_best.pth  fchmod (file attributes) error: Operation not permitted\n",
      " (warning) cannot set modif./access times\n",
      "          Operation not permitted\n",
      "  inflating: tokenizer/added_tokens.json  fchmod (file attributes) error: Operation not permitted\n",
      " (warning) cannot set modif./access times\n",
      "          Operation not permitted\n",
      "  inflating: tokenizer/special_tokens_map.json  fchmod (file attributes) error: Operation not permitted\n",
      " (warning) cannot set modif./access times\n",
      "          Operation not permitted\n",
      "  inflating: tokenizer/spm.model     fchmod (file attributes) error: Operation not permitted\n",
      " (warning) cannot set modif./access times\n",
      "          Operation not permitted\n",
      "  inflating: tokenizer/tokenizer.json  fchmod (file attributes) error: Operation not permitted\n",
      " (warning) cannot set modif./access times\n",
      "          Operation not permitted\n",
      "  inflating: tokenizer/tokenizer_config.json  fchmod (file attributes) error: Operation not permitted\n",
      " (warning) cannot set modif./access times\n",
      "          Operation not permitted\n",
      "/home/jovyan/talmodata-smb/vincent/Learning-Equality-Curriculum-Rec\n"
     ]
    }
   ],
   "source": [
    "%cd input/\n",
    "!mkdir model23/\n",
    "%cd model23/\n",
    "!kaggle datasets download -d evgeniimaslov2/model23\n",
    "!unzip model23.zip\n",
    "!rm model23.zip\n",
    "%cd ../../"
   ]
  },
  {
   "cell_type": "code",
   "execution_count": 8,
   "id": "26fa33d3-3563-4613-abb6-2cb9c6382763",
   "metadata": {},
   "outputs": [
    {
     "name": "stdout",
     "output_type": "stream",
     "text": [
      "/home/jovyan/talmodata-smb/vincent/Learning-Equality-Curriculum-Rec/input\n",
      "/home/jovyan/talmodata-smb/vincent/Learning-Equality-Curriculum-Rec/input/model52\n",
      "Downloading model52.zip to /home/jovyan/talmodata-smb/vincent/Learning-Equality-Curriculum-Rec/input/model52\n",
      "100%|██████████████████████████████████████▉| 7.01G/7.01G [01:18<00:00, 110MB/s]\n",
      "100%|██████████████████████████████████████| 7.01G/7.01G [01:29<00:00, 83.7MB/s]\n",
      "Archive:  model52.zip\n",
      "  inflating: config.pth              fchmod (file attributes) error: Operation not permitted\n",
      " (warning) cannot set modif./access times\n",
      "          Operation not permitted\n",
      "  inflating: microsoft-deberta-v3-large_fold0_best.pth  fchmod (file attributes) error: Operation not permitted\n",
      " (warning) cannot set modif./access times\n",
      "          Operation not permitted\n",
      "  inflating: microsoft-deberta-v3-large_fold1_best.pth  fchmod (file attributes) error: Operation not permitted\n",
      " (warning) cannot set modif./access times\n",
      "          Operation not permitted\n",
      "  inflating: microsoft-deberta-v3-large_fold2_best.pth  fchmod (file attributes) error: Operation not permitted\n",
      " (warning) cannot set modif./access times\n",
      "          Operation not permitted\n",
      "  inflating: microsoft-deberta-v3-large_fold3_best.pth  fchmod (file attributes) error: Operation not permitted\n",
      " (warning) cannot set modif./access times\n",
      "          Operation not permitted\n",
      "  inflating: microsoft-deberta-v3-large_fold4_best.pth  fchmod (file attributes) error: Operation not permitted\n",
      " (warning) cannot set modif./access times\n",
      "          Operation not permitted\n",
      "  inflating: oof_df.csv              fchmod (file attributes) error: Operation not permitted\n",
      " (warning) cannot set modif./access times\n",
      "          Operation not permitted\n",
      "  inflating: tokenizer/added_tokens.json  fchmod (file attributes) error: Operation not permitted\n",
      " (warning) cannot set modif./access times\n",
      "          Operation not permitted\n",
      "  inflating: tokenizer/special_tokens_map.json  fchmod (file attributes) error: Operation not permitted\n",
      " (warning) cannot set modif./access times\n",
      "          Operation not permitted\n",
      "  inflating: tokenizer/spm.model     fchmod (file attributes) error: Operation not permitted\n",
      " (warning) cannot set modif./access times\n",
      "          Operation not permitted\n",
      "  inflating: tokenizer/tokenizer.json  fchmod (file attributes) error: Operation not permitted\n",
      " (warning) cannot set modif./access times\n",
      "          Operation not permitted\n",
      "  inflating: tokenizer/tokenizer_config.json  fchmod (file attributes) error: Operation not permitted\n",
      " (warning) cannot set modif./access times\n",
      "          Operation not permitted\n",
      "/home/jovyan/talmodata-smb/vincent/Learning-Equality-Curriculum-Rec\n"
     ]
    }
   ],
   "source": [
    "%cd input/\n",
    "!mkdir model52/\n",
    "%cd model52/\n",
    "!kaggle datasets download -d evgeniimaslov2/model52\n",
    "!unzip model52.zip\n",
    "!rm model52.zip\n",
    "%cd ../../"
   ]
  },
  {
   "cell_type": "code",
   "execution_count": null,
   "id": "9aa9308b-969e-458f-b88a-bdd93cf2d60d",
   "metadata": {},
   "outputs": [],
   "source": []
  }
 ],
 "metadata": {
  "kernelspec": {
   "display_name": "python37",
   "language": "python",
   "name": "python37"
  },
  "language_info": {
   "codemirror_mode": {
    "name": "ipython",
    "version": 3
   },
   "file_extension": ".py",
   "mimetype": "text/x-python",
   "name": "python",
   "nbconvert_exporter": "python",
   "pygments_lexer": "ipython3",
   "version": "3.7.12"
  }
 },
 "nbformat": 4,
 "nbformat_minor": 5
}
