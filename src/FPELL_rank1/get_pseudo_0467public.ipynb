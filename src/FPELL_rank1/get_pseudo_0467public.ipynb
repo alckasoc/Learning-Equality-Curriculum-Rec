{
 "cells": [
  {
   "cell_type": "markdown",
   "id": "b1148413-8092-4ae2-8663-496ace9b3aea",
   "metadata": {},
   "source": [
    "# Setup"
   ]
  },
  {
   "cell_type": "code",
   "execution_count": 1,
   "id": "74ac35fc-89ae-45ba-887f-72c3200cefa3",
   "metadata": {
    "tags": []
   },
   "outputs": [],
   "source": [
    "import gc\n",
    "import pandas as pd\n",
    "from tqdm.auto import tqdm\n",
    "\n",
    "import torch\n",
    "from torch import nn\n",
    "from torch.utils.data import Dataset, DataLoader\n",
    "from transformers import AutoModel, AutoTokenizer, AutoConfig\n",
    "from transformers import DataCollatorWithPadding"
   ]
  },
  {
   "cell_type": "markdown",
   "id": "66cdc4b7-6e2d-48e2-bf74-229e778e1b18",
   "metadata": {},
   "source": [
    "# Load the Models"
   ]
  },
  {
   "cell_type": "code",
   "execution_count": 2,
   "id": "1386f4ad-b461-4078-a577-acee460282d1",
   "metadata": {
    "tags": []
   },
   "outputs": [],
   "source": [
    "class CFG1:\n",
    "    sup_model = \"../../input/stage-1-all-minilm-l6-v2/all-MiniLM-L6-v2-exp_fold0_epochs10\"\n",
    "    sup_model_tuned = \"../../input/sentence-transformers-all-minilm-l6-v2-fold0-42/sentence-transformers-all-MiniLM-L6-v2_fold0_42.pth\"\n",
    "    sup_tokenizer = AutoTokenizer.from_pretrained(sup_model + '/tokenizer')\n",
    "    pooling = \"mean\"\n",
    "    batch_size = 120\n",
    "    gradient_checkpointing = False\n",
    "    add_with_best_prob = False\n",
    "    \n",
    "class CFG2:\n",
    "    sup_model = \"../../input/paraphrasemultilingualmpnetbasev2-origin2/paraphrasemultilingualmpnetbasev2-origin\"\n",
    "    sup_model_tuned = \"../../input/paraphrase-multilingual-mpnet-base-v2-reranker/model-paraphrase-multilingual-mpnet-base-v2-tuned_0.4747.pth\"\n",
    "    sup_tokenizer = AutoTokenizer.from_pretrained(sup_model + '/tokenizer')\n",
    "    pooling = \"mean\"\n",
    "    batch_size = 120\n",
    "    gradient_checkpointing = False\n",
    "    add_with_best_prob = True  "
   ]
  },
  {
   "cell_type": "code",
   "execution_count": 3,
   "id": "293f18b2-72c8-4bee-8d55-4415315cda39",
   "metadata": {
    "tags": []
   },
   "outputs": [],
   "source": [
    "class MeanPooling(nn.Module):\n",
    "    def __init__(self):\n",
    "        super(MeanPooling, self).__init__()\n",
    "    def forward(self, last_hidden_state, attention_mask):\n",
    "        input_mask_expanded = attention_mask.unsqueeze(-1).expand(last_hidden_state.size()).float()\n",
    "        sum_embeddings = torch.sum(last_hidden_state * input_mask_expanded, 1)\n",
    "        sum_mask = input_mask_expanded.sum(1)\n",
    "        sum_mask = torch.clamp(sum_mask, min=1e-9)\n",
    "        mean_embeddings = sum_embeddings / sum_mask\n",
    "        return mean_embeddings"
   ]
  },
  {
   "cell_type": "code",
   "execution_count": 4,
   "id": "0d33c2db-c958-4121-8f79-8d5227171e71",
   "metadata": {
    "tags": []
   },
   "outputs": [],
   "source": [
    "class custom_model(nn.Module):\n",
    "    def __init__(self, cfg):\n",
    "        super().__init__()\n",
    "        self.cfg = cfg\n",
    "        self.config = AutoConfig.from_pretrained(cfg.sup_model + '/config', output_hidden_states = True)\n",
    "        self.config.hidden_dropout = 0.0\n",
    "        self.config.hidden_dropout_prob = 0.0\n",
    "        self.config.attention_dropout = 0.0\n",
    "        self.config.attention_probs_dropout_prob = 0.0\n",
    "        self.model = AutoModel.from_pretrained(cfg.sup_model + '/model', config = self.config)\n",
    "\n",
    "        self.pool = MeanPooling()\n",
    "\n",
    "        self.fc = nn.Linear(self.config.hidden_size, 1)\n",
    "\n",
    "        self._init_weights(self.fc)\n",
    "        \n",
    "    def _init_weights(self, module):\n",
    "        if isinstance(module, nn.Linear):\n",
    "            module.weight.data.normal_(mean=0.0, std=self.config.initializer_range)\n",
    "            if module.bias is not None:\n",
    "                module.bias.data.zero_()\n",
    "        elif isinstance(module, nn.Embedding):\n",
    "            module.weight.data.normal_(mean=0.0, std=self.config.initializer_range)\n",
    "            if module.padding_idx is not None:\n",
    "                module.weight.data[module.padding_idx].zero_()\n",
    "        elif isinstance(module, nn.LayerNorm):\n",
    "            module.bias.data.zero_()\n",
    "            module.weight.data.fill_(1.0)\n",
    "            \n",
    "    def feature(self, inputs):\n",
    "        outputs = self.model(**inputs)\n",
    "        \n",
    "        last_hidden_state = outputs.last_hidden_state\n",
    "        feature = self.pool(last_hidden_state, inputs['attention_mask'])\n",
    "        \n",
    "        return feature\n",
    "    \n",
    "    def forward(self, inputs):\n",
    "        feature = self.feature(inputs)\n",
    "        output = self.fc(feature)\n",
    "        return feature, output"
   ]
  },
  {
   "cell_type": "markdown",
   "id": "25476f70-28b2-439d-ae39-d74865eda6c9",
   "metadata": {},
   "source": [
    "# Inference"
   ]
  },
  {
   "cell_type": "code",
   "execution_count": 5,
   "id": "6545ab59-6449-407a-907d-22f966012458",
   "metadata": {
    "tags": []
   },
   "outputs": [],
   "source": [
    "class sup_dataset(Dataset):\n",
    "    def __init__(self, df, cfg):\n",
    "        self.cfg = cfg\n",
    "        self.texts = df['text'].values\n",
    "    def __len__(self):\n",
    "        return len(self.texts)\n",
    "    def __getitem__(self, item):\n",
    "        inputs = prepare_sup_input(self.texts[item], self.cfg)\n",
    "        return inputs"
   ]
  },
  {
   "cell_type": "code",
   "execution_count": 6,
   "id": "91c322f1-31eb-4db4-be91-2747102d0880",
   "metadata": {
    "tags": []
   },
   "outputs": [],
   "source": [
    "def prepare_sup_input(text, cfg):\n",
    "    inputs = cfg.sup_tokenizer.encode_plus(\n",
    "        text, \n",
    "        return_tensors = None, \n",
    "        add_special_tokens = True, \n",
    "    )\n",
    "    for k, v in inputs.items():\n",
    "        inputs[k] = torch.tensor(v, dtype = torch.long)\n",
    "    return inputs"
   ]
  },
  {
   "cell_type": "code",
   "execution_count": 7,
   "id": "7ceec0fd-9107-4432-97de-f24f060959e3",
   "metadata": {
    "tags": []
   },
   "outputs": [],
   "source": [
    "df = pd.read_csv(\"../../input/prep_cleaned_train_context_5fold.csv\", lineterminator=\"\\n\")"
   ]
  },
  {
   "cell_type": "code",
   "execution_count": 8,
   "id": "e94c0d58-0eb8-4e9f-8ee3-f37c3b9671ea",
   "metadata": {
    "tags": []
   },
   "outputs": [
    {
     "data": {
      "text/html": [
       "<div>\n",
       "<style scoped>\n",
       "    .dataframe tbody tr th:only-of-type {\n",
       "        vertical-align: middle;\n",
       "    }\n",
       "\n",
       "    .dataframe tbody tr th {\n",
       "        vertical-align: top;\n",
       "    }\n",
       "\n",
       "    .dataframe thead th {\n",
       "        text-align: right;\n",
       "    }\n",
       "</style>\n",
       "<table border=\"1\" class=\"dataframe\">\n",
       "  <thead>\n",
       "    <tr style=\"text-align: right;\">\n",
       "      <th></th>\n",
       "      <th>topics_ids</th>\n",
       "      <th>content_ids</th>\n",
       "      <th>channel</th>\n",
       "      <th>topic_title</th>\n",
       "      <th>topic_description</th>\n",
       "      <th>topic_parent_title</th>\n",
       "      <th>topic_parent_description</th>\n",
       "      <th>topic_child_title</th>\n",
       "      <th>topic_child_description</th>\n",
       "      <th>topic_category</th>\n",
       "      <th>topic_language</th>\n",
       "      <th>content_title</th>\n",
       "      <th>content_description</th>\n",
       "      <th>content_text</th>\n",
       "      <th>content_kind</th>\n",
       "      <th>content_language</th>\n",
       "      <th>target</th>\n",
       "      <th>topic_fold</th>\n",
       "      <th>content_fold</th>\n",
       "      <th>text</th>\n",
       "    </tr>\n",
       "  </thead>\n",
       "  <tbody>\n",
       "    <tr>\n",
       "      <th>0</th>\n",
       "      <td>t_3d9ad9931021</td>\n",
       "      <td>c_efb73ad83f4b</td>\n",
       "      <td>ebc86c</td>\n",
       "      <td>NaN</td>\n",
       "      <td>BC Introduction Human Biology Grewal</td>\n",
       "      <td>Butte College [SEP] Campus Courses [SEP] Libre...</td>\n",
       "      <td>NaN</td>\n",
       "      <td>Text [SEP] Introduction to Human Biology [SEP]...</td>\n",
       "      <td>NaN</td>\n",
       "      <td>supplemental</td>\n",
       "      <td>en</td>\n",
       "      <td>NaN</td>\n",
       "      <td>NaN</td>\n",
       "      <td>Orientaciones profesorado Orientaciones profes...</td>\n",
       "      <td>document</td>\n",
       "      <td>es</td>\n",
       "      <td>0</td>\n",
       "      <td>3.0</td>\n",
       "      <td>2.0</td>\n",
       "      <td>BC Introduction Human Biology Grewal [SEP] But...</td>\n",
       "    </tr>\n",
       "  </tbody>\n",
       "</table>\n",
       "</div>"
      ],
      "text/plain": [
       "       topics_ids     content_ids channel topic_title  \\\n",
       "0  t_3d9ad9931021  c_efb73ad83f4b  ebc86c         NaN   \n",
       "\n",
       "                      topic_description  \\\n",
       "0  BC Introduction Human Biology Grewal   \n",
       "\n",
       "                                  topic_parent_title topic_parent_description  \\\n",
       "0  Butte College [SEP] Campus Courses [SEP] Libre...                      NaN   \n",
       "\n",
       "                                   topic_child_title topic_child_description  \\\n",
       "0  Text [SEP] Introduction to Human Biology [SEP]...                     NaN   \n",
       "\n",
       "  topic_category topic_language content_title content_description  \\\n",
       "0   supplemental             en           NaN                 NaN   \n",
       "\n",
       "                                        content_text content_kind  \\\n",
       "0  Orientaciones profesorado Orientaciones profes...     document   \n",
       "\n",
       "  content_language  target  topic_fold  content_fold  \\\n",
       "0               es       0         3.0           2.0   \n",
       "\n",
       "                                                text  \n",
       "0  BC Introduction Human Biology Grewal [SEP] But...  "
      ]
     },
     "execution_count": 8,
     "metadata": {},
     "output_type": "execute_result"
    }
   ],
   "source": [
    "df.head(1)"
   ]
  },
  {
   "cell_type": "markdown",
   "id": "03ed8cfb-6443-43f6-a35e-fe40ab889dc6",
   "metadata": {},
   "source": [
    "## Inference with CFG1 and m1"
   ]
  },
  {
   "cell_type": "code",
   "execution_count": 9,
   "id": "a6a91aa9-c9e4-4adc-82b1-c939bf0c4335",
   "metadata": {
    "tags": []
   },
   "outputs": [
    {
     "data": {
      "text/plain": [
       "<All keys matched successfully>"
      ]
     },
     "execution_count": 9,
     "metadata": {},
     "output_type": "execute_result"
    }
   ],
   "source": [
    "m1 = custom_model(CFG1)\n",
    "\n",
    "state1 = torch.load(CFG1.sup_model_tuned, map_location = torch.device('cpu'))\n",
    "m1.load_state_dict(state1['model'])"
   ]
  },
  {
   "cell_type": "code",
   "execution_count": 10,
   "id": "5d8211ed-1f1b-4bc3-87f9-e08387ddae6f",
   "metadata": {
    "tags": []
   },
   "outputs": [],
   "source": [
    "cfg = CFG1()\n",
    "test_dataset = sup_dataset(df, cfg)"
   ]
  },
  {
   "cell_type": "code",
   "execution_count": 26,
   "id": "7c3bbf5c-fc41-4e38-9427-cfde36f97c3b",
   "metadata": {
    "tags": []
   },
   "outputs": [],
   "source": [
    "test_loader = DataLoader(\n",
    "    test_dataset, \n",
    "    batch_size = cfg.batch_size, \n",
    "    shuffle = False, \n",
    "    collate_fn = DataCollatorWithPadding(tokenizer = cfg.sup_tokenizer, padding = 'longest'),\n",
    "    num_workers = 0,\n",
    "    pin_memory = True,\n",
    "    drop_last = False\n",
    ")"
   ]
  },
  {
   "cell_type": "code",
   "execution_count": 38,
   "id": "059b46b0-4101-4ebc-a383-b380972b508b",
   "metadata": {
    "tags": []
   },
   "outputs": [
    {
     "data": {
      "application/vnd.jupyter.widget-view+json": {
       "model_id": "f80468460c274957b265c49650380645",
       "version_major": 2,
       "version_minor": 0
      },
      "text/plain": [
       "  0%|          | 0/5127 [00:00<?, ?it/s]"
      ]
     },
     "metadata": {},
     "output_type": "display_data"
    },
    {
     "data": {
      "text/plain": [
       "25"
      ]
     },
     "execution_count": 38,
     "metadata": {},
     "output_type": "execute_result"
    }
   ],
   "source": [
    "device = \"cuda\" if torch.cuda.is_available() else \"cpu\"\n",
    "\n",
    "_ = m1.eval()\n",
    "_ = m1.to(device)\n",
    "\n",
    "out_features_1 = torch.Tensor([])\n",
    "preds_1 = torch.Tensor([])\n",
    "for _, x in tqdm(enumerate(test_loader), leave=True, position=0, total=len(test_loader)):\n",
    "    for k, v in x.items():\n",
    "        x[k] = v.to(device)\n",
    "        x[k] = x[k][:, :512]\n",
    "    \n",
    "    with torch.no_grad():\n",
    "        features, z = m1(x)\n",
    "        \n",
    "    out_features_1 = torch.concat([out_features_1, features.cpu()], axis=0)\n",
    "    preds_1 = torch.concat([preds_1, z.cpu()], axis=0)\n",
    "        \n",
    "torch.cuda.empty_cache()\n",
    "gc.collect()"
   ]
  },
  {
   "cell_type": "code",
   "execution_count": 39,
   "id": "9825076d-dbd6-47aa-a9dc-efa522977b15",
   "metadata": {
    "tags": []
   },
   "outputs": [],
   "source": [
    "del m1, test_dataset, test_loader"
   ]
  },
  {
   "cell_type": "code",
   "execution_count": 40,
   "id": "516d6998-030a-48e5-b871-492b9c533e6f",
   "metadata": {
    "tags": []
   },
   "outputs": [
    {
     "data": {
      "text/plain": [
       "(torch.Size([615170, 384]), torch.Size([615170, 1]))"
      ]
     },
     "execution_count": 40,
     "metadata": {},
     "output_type": "execute_result"
    }
   ],
   "source": [
    "out_features_1.shape, preds_1.shape"
   ]
  },
  {
   "cell_type": "code",
   "execution_count": 49,
   "id": "5b9b2582-c2c4-438a-807a-254d74dbb8a3",
   "metadata": {
    "tags": []
   },
   "outputs": [],
   "source": [
    "torch.save(out_features_1, \"../../input/pseudo_label/out_features_m1.pt\")"
   ]
  },
  {
   "cell_type": "code",
   "execution_count": 48,
   "id": "ecf8647e-e7cf-40db-a23d-789b59326425",
   "metadata": {
    "tags": []
   },
   "outputs": [],
   "source": [
    "torch.save(preds_1, \"../../input/pseudo_label/preds_m1.pt\")"
   ]
  },
  {
   "cell_type": "markdown",
   "id": "7da710d6-6ec1-4edc-aacb-f7cf43555d3c",
   "metadata": {},
   "source": [
    "## Inference with CFG2 and m2"
   ]
  },
  {
   "cell_type": "code",
   "execution_count": 50,
   "id": "f90d1fab-fa18-418c-857a-f3e2d96b712b",
   "metadata": {
    "tags": []
   },
   "outputs": [
    {
     "data": {
      "text/plain": [
       "<All keys matched successfully>"
      ]
     },
     "execution_count": 50,
     "metadata": {},
     "output_type": "execute_result"
    }
   ],
   "source": [
    "m2 = custom_model(CFG2)\n",
    "\n",
    "state2 = torch.load(CFG2.sup_model_tuned, map_location = torch.device('cpu'))\n",
    "m2.load_state_dict(state2['model'])"
   ]
  },
  {
   "cell_type": "code",
   "execution_count": 51,
   "id": "572cc5b8-249f-492f-a8cd-c16038a13113",
   "metadata": {
    "tags": []
   },
   "outputs": [],
   "source": [
    "cfg = CFG2()\n",
    "test_dataset = sup_dataset(df, cfg)"
   ]
  },
  {
   "cell_type": "code",
   "execution_count": 52,
   "id": "e9d883e7-8a57-4be4-a7cc-5bbe106d2cd4",
   "metadata": {
    "tags": []
   },
   "outputs": [],
   "source": [
    "test_loader = DataLoader(\n",
    "    test_dataset, \n",
    "    batch_size = cfg.batch_size, \n",
    "    shuffle = False, \n",
    "    collate_fn = DataCollatorWithPadding(tokenizer = cfg.sup_tokenizer, padding = 'longest'),\n",
    "    num_workers = 0,\n",
    "    pin_memory = True,\n",
    "    drop_last = False\n",
    ")"
   ]
  },
  {
   "cell_type": "code",
   "execution_count": 54,
   "id": "13f92ceb-34c4-4367-84ba-56589f2bc3ef",
   "metadata": {
    "tags": []
   },
   "outputs": [
    {
     "data": {
      "application/vnd.jupyter.widget-view+json": {
       "model_id": "0a35e57a24714d409c2596b557fd2a9c",
       "version_major": 2,
       "version_minor": 0
      },
      "text/plain": [
       "  0%|          | 0/5127 [00:00<?, ?it/s]"
      ]
     },
     "metadata": {},
     "output_type": "display_data"
    },
    {
     "data": {
      "text/plain": [
       "25"
      ]
     },
     "execution_count": 54,
     "metadata": {},
     "output_type": "execute_result"
    }
   ],
   "source": [
    "device = \"cuda\" if torch.cuda.is_available() else \"cpu\"\n",
    "\n",
    "_ = m2.eval()\n",
    "_ = m2.to(device)\n",
    "\n",
    "out_features_1 = torch.Tensor([])\n",
    "preds_1 = torch.Tensor([])\n",
    "for _, x in tqdm(enumerate(test_loader), leave=True, position=0, total=len(test_loader)):\n",
    "    for k, v in x.items():\n",
    "        x[k] = v.to(device)\n",
    "        x[k] = x[k][:, :512]\n",
    "    \n",
    "    with torch.no_grad():\n",
    "        features, z = m2(x)\n",
    "        \n",
    "    out_features_1 = torch.concat([out_features_1, features.cpu()], axis=0)\n",
    "    preds_1 = torch.concat([preds_1, z.cpu()], axis=0)\n",
    "        \n",
    "torch.cuda.empty_cache()\n",
    "gc.collect()"
   ]
  },
  {
   "cell_type": "code",
   "execution_count": 55,
   "id": "c9f99025-7c92-46d8-b6e9-bdd466040de8",
   "metadata": {
    "tags": []
   },
   "outputs": [],
   "source": [
    "del m2, test_dataset, test_loader"
   ]
  },
  {
   "cell_type": "code",
   "execution_count": 56,
   "id": "fba45f29-d666-42c0-aaa8-0c15ea0d6cea",
   "metadata": {
    "tags": []
   },
   "outputs": [],
   "source": [
    "torch.save(out_features_1, \"../../input/pseudo_label/out_features_m2.pt\")\n",
    "torch.save(preds_1, \"../../input/pseudo_label/preds_m2.pt\")"
   ]
  },
  {
   "cell_type": "code",
   "execution_count": null,
   "id": "4ad8a7c2-bace-44a7-b8ad-7fc21bfd8783",
   "metadata": {},
   "outputs": [],
   "source": []
  }
 ],
 "metadata": {
  "kernelspec": {
   "display_name": "python37",
   "language": "python",
   "name": "python37"
  },
  "language_info": {
   "codemirror_mode": {
    "name": "ipython",
    "version": 3
   },
   "file_extension": ".py",
   "mimetype": "text/x-python",
   "name": "python",
   "nbconvert_exporter": "python",
   "pygments_lexer": "ipython3",
   "version": "3.7.12"
  }
 },
 "nbformat": 4,
 "nbformat_minor": 5
}
