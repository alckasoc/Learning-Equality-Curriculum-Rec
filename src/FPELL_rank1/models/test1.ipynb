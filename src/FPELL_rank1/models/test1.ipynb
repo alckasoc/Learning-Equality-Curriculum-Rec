{
 "cells": [
  {
   "cell_type": "code",
   "execution_count": 1,
   "id": "fc421cc3-cf93-4e53-b16f-fbe37f913eaf",
   "metadata": {},
   "outputs": [],
   "source": [
    "import torch\n",
    "from torch import nn\n",
    "from transformers import AutoModel, AutoConfig\n",
    "from pooling import *"
   ]
  },
  {
   "cell_type": "code",
   "execution_count": 2,
   "id": "2b34e01d-60a4-455a-89f0-22fa7eca001a",
   "metadata": {},
   "outputs": [],
   "source": [
    "class CustomModel(nn.Module):\n",
    "    def __init__(self, model, pooling_type, hidden_size=None, config_path=None, pretrained=False):\n",
    "        super().__init__()\n",
    "        self.pooling_type = pooling_type\n",
    "        \n",
    "        if config_path is None:\n",
    "            self.config = AutoConfig.from_pretrained(model, output_hidden_states=True)\n",
    "            self.config.hidden_dropout = 0.\n",
    "            self.config.hidden_dropout_prob = 0.\n",
    "            self.config.attention_dropout = 0.\n",
    "            self.config.attention_probs_dropout_prob = 0.\n",
    "        else:\n",
    "            self.config = torch.load(config_path)\n",
    "            \n",
    "        if pretrained:\n",
    "            self.backbone = AutoModel.from_pretrained(model, config=self.config)\n",
    "        else:\n",
    "            self.backbone = AutoModel.from_config(self.config)\n",
    "        \n",
    "        if pooling_type == 'MeanPooling':\n",
    "            self.pool = MeanPooling()\n",
    "        elif pooling_type == 'WeightedLayerPooling':\n",
    "            self.pool = WeightedLayerPooling(self.config.num_hidden_layers)\n",
    "        elif pooling_type == 'LSTMPooling':\n",
    "            self.pool =  LSTMPooling(self.config.num_hidden_layers,\n",
    "                                       self.config.hidden_size,\n",
    "                                       hidden_size,\n",
    "                                       0.1,\n",
    "                                       is_lstm=True\n",
    "                           )\n",
    "        else:\n",
    "            raise ValueError('Unknown pooling type')\n",
    "        \n",
    "        \n",
    "        if pooling_type == 'GRUPooling':\n",
    "            self.fc = nn.Linear(hidden_size, 6)\n",
    "        elif pooling_type == 'LSTMPooling':\n",
    "            self.fc = nn.Linear(hidden_size, 6)\n",
    "        else:\n",
    "            self.fc = nn.Linear(self.config.hidden_size, 6)\n",
    "        \n",
    "    def feature(self, inputs):\n",
    "        outputs = self.backbone(**inputs)\n",
    "        \n",
    "        last_hidden_states = outputs[0]\n",
    "        \n",
    "        if self.pooling_type == 'MeanPooling':\n",
    "            feature = self.pool(last_hidden_states, inputs['attention_mask'])\n",
    "        elif self.pooling_type == 'WeightedLayerPooling':\n",
    "            all_hidden_states = torch.stack(outputs[1])\n",
    "            feature = self.pool(all_hidden_states)\n",
    "        elif self.pooling_type in ['GRUPooling', 'LSTMPooling']:\n",
    "            all_hidden_states = torch.stack(outputs[1])\n",
    "            feature = self.pool(all_hidden_states)\n",
    "        else:\n",
    "            raise ValueError('Unknown pooling type')\n",
    "        \n",
    "        return outputs, feature\n",
    "\n",
    "    def forward(self, inputs):\n",
    "        original_outputs, feature = self.feature(inputs)\n",
    "        output = self.fc(feature)\n",
    "        return original_outputs, output"
   ]
  },
  {
   "cell_type": "code",
   "execution_count": 3,
   "id": "b646e21f-03b9-46d1-bc8a-92feb381caac",
   "metadata": {},
   "outputs": [],
   "source": [
    "m1 = CustomModel(\"microsoft/deberta-v3-large\", \"MeanPooling\", hidden_size=None, config_path=\"../../../input/model23/config.pth\", pretrained=False)"
   ]
  },
  {
   "cell_type": "code",
   "execution_count": 4,
   "id": "6fd71670-249a-4127-85fd-ae787da277d7",
   "metadata": {},
   "outputs": [],
   "source": [
    "def freeze(module):\n",
    "    for parameter in module.parameters():\n",
    "        parameter.requires_grad = False"
   ]
  },
  {
   "cell_type": "code",
   "execution_count": 33,
   "id": "d37500c6-8029-410e-bf84-eb26cc660ff3",
   "metadata": {},
   "outputs": [],
   "source": [
    "a = list(m1.backbone.modules())\n"
   ]
  },
  {
   "cell_type": "code",
   "execution_count": 34,
   "id": "3fc0432e-a175-4437-8c49-33c1400d4ecc",
   "metadata": {},
   "outputs": [
    {
     "data": {
      "text/plain": [
       "465"
      ]
     },
     "execution_count": 34,
     "metadata": {},
     "output_type": "execute_result"
    }
   ],
   "source": [
    "len(a)"
   ]
  },
  {
   "cell_type": "code",
   "execution_count": 35,
   "id": "ea4fe4b7-8a06-4fc6-bd6a-c0cb76fb669a",
   "metadata": {},
   "outputs": [
    {
     "data": {
      "text/plain": [
       "LayerNorm((1024,), eps=1e-07, elementwise_affine=True)"
      ]
     },
     "execution_count": 35,
     "metadata": {},
     "output_type": "execute_result"
    }
   ],
   "source": [
    "a[-1]"
   ]
  },
  {
   "cell_type": "code",
   "execution_count": 36,
   "id": "96925f1c-cef1-44c9-93f6-39df850a9b4c",
   "metadata": {},
   "outputs": [
    {
     "data": {
      "text/plain": [
       "Embedding(512, 1024)"
      ]
     },
     "execution_count": 36,
     "metadata": {},
     "output_type": "execute_result"
    }
   ],
   "source": [
    "a[-2]"
   ]
  },
  {
   "cell_type": "code",
   "execution_count": 42,
   "id": "198908fc-348c-4d35-9b5a-dcb6a7369b8a",
   "metadata": {},
   "outputs": [],
   "source": [
    "freeze(m1)"
   ]
  },
  {
   "cell_type": "code",
   "execution_count": 70,
   "id": "2eb05e7c-81a5-409c-9b0f-5f93e0865319",
   "metadata": {},
   "outputs": [
    {
     "data": {
      "text/plain": [
       "Linear(in_features=1024, out_features=6, bias=True)"
      ]
     },
     "execution_count": 70,
     "metadata": {},
     "output_type": "execute_result"
    }
   ],
   "source": [
    "m1.fc"
   ]
  },
  {
   "cell_type": "code",
   "execution_count": 71,
   "id": "ee071b07-0ec9-4166-8ca3-5d2bb1f614ee",
   "metadata": {},
   "outputs": [],
   "source": [
    "from torch import nn\n",
    "\n",
    "m1.fc = nn.Linear(in_features=1024, out_features=1, bias=True)"
   ]
  },
  {
   "cell_type": "code",
   "execution_count": 73,
   "id": "d0c29386-1ad8-497d-9299-2abfc2a62cae",
   "metadata": {},
   "outputs": [
    {
     "data": {
      "text/plain": [
       "True"
      ]
     },
     "execution_count": 73,
     "metadata": {},
     "output_type": "execute_result"
    }
   ],
   "source": [
    "list(m1.fc.parameters())[0].requires_grad"
   ]
  },
  {
   "cell_type": "code",
   "execution_count": 79,
   "id": "df2708bb-bb88-4731-8783-cf06faa060fb",
   "metadata": {},
   "outputs": [
    {
     "data": {
      "text/plain": [
       "False"
      ]
     },
     "execution_count": 79,
     "metadata": {},
     "output_type": "execute_result"
    }
   ],
   "source": [
    "list(m1.backbone.encoder.layer[0].attention.parameters())[0].requires_grad"
   ]
  },
  {
   "cell_type": "code",
   "execution_count": null,
   "id": "624c3cf0-d678-4817-a71d-2fc948d2ccdf",
   "metadata": {},
   "outputs": [],
   "source": []
  }
 ],
 "metadata": {
  "kernelspec": {
   "display_name": "python37",
   "language": "python",
   "name": "python37"
  },
  "language_info": {
   "codemirror_mode": {
    "name": "ipython",
    "version": 3
   },
   "file_extension": ".py",
   "mimetype": "text/x-python",
   "name": "python",
   "nbconvert_exporter": "python",
   "pygments_lexer": "ipython3",
   "version": "3.7.12"
  }
 },
 "nbformat": 4,
 "nbformat_minor": 5
}
