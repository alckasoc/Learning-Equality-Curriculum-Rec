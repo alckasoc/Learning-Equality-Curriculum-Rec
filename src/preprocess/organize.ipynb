{
 "cells": [
  {
   "cell_type": "code",
   "execution_count": 23,
   "id": "9c9e96d9-df31-42d1-8ef4-51575c49c656",
   "metadata": {},
   "outputs": [],
   "source": [
    "from tqdm.notebook import tqdm\n",
    "from transformers import AutoTokenizer\n",
    "import pandas as pd\n",
    "from copy import deepcopy\n",
    "from torch.utils.data import DataLoader, Dataset\n",
    "import numpy as np\n",
    "import torch"
   ]
  },
  {
   "cell_type": "code",
   "execution_count": 2,
   "id": "bc16a0ee-b1bb-421e-a605-bc2f2ed6c75d",
   "metadata": {},
   "outputs": [],
   "source": [
    "cleaned_train_context = pd.read_csv(\"../../input/cleaned_train_context_5fold.csv\", lineterminator=\"\\n\")"
   ]
  },
  {
   "cell_type": "code",
   "execution_count": 3,
   "id": "93887837-ce4b-41c6-817c-078e6e078815",
   "metadata": {},
   "outputs": [
    {
     "data": {
      "text/plain": [
       "(615170, 19)"
      ]
     },
     "execution_count": 3,
     "metadata": {},
     "output_type": "execute_result"
    }
   ],
   "source": [
    "cleaned_train_context.shape"
   ]
  },
  {
   "cell_type": "code",
   "execution_count": 4,
   "id": "2266399e-8828-43ce-8da6-7ccd74feba4f",
   "metadata": {},
   "outputs": [],
   "source": [
    "tmp = deepcopy(cleaned_train_context)"
   ]
  },
  {
   "cell_type": "code",
   "execution_count": 5,
   "id": "d008cc42-a84a-44f8-83e3-25b4c72e4e83",
   "metadata": {},
   "outputs": [],
   "source": [
    "num_cols = [\"target\", \"topic_fold\", \"content_fold\"]\n",
    "obj_cols = [c for c in tmp.columns if c not in num_cols]\n",
    "\n",
    "tmp[obj_cols] = tmp[obj_cols].fillna(\"\")\n",
    "tmp[num_cols] = tmp[num_cols].fillna(-1)"
   ]
  },
  {
   "cell_type": "code",
   "execution_count": 6,
   "id": "75e75454-e6bb-429d-90bb-60098a057749",
   "metadata": {},
   "outputs": [],
   "source": [
    "curr_text_cols = [\n",
    "     \"topic_title\", \n",
    "     \"topic_description\", \n",
    "     \"content_title\", \n",
    "     \"content_description\", \n",
    "     \"content_text\"\n",
    "]\n",
    "\n",
    "context_text_cols = [\n",
    "    \"topic_parent_title\", \n",
    "    \"topic_parent_description\", \n",
    "    \"topic_child_title\", \n",
    "    \"topic_child_description\"\n",
    "]"
   ]
  },
  {
   "cell_type": "code",
   "execution_count": 7,
   "id": "923b7ecc-f626-40bd-bfd6-a84e9b514585",
   "metadata": {},
   "outputs": [
    {
     "data": {
      "application/vnd.jupyter.widget-view+json": {
       "model_id": "1dbca47f66684f93863297a6d20aabf4",
       "version_major": 2,
       "version_minor": 0
      },
      "text/plain": [
       "  0%|          | 0/5 [00:00<?, ?it/s]"
      ]
     },
     "metadata": {},
     "output_type": "display_data"
    },
    {
     "data": {
      "application/vnd.jupyter.widget-view+json": {
       "model_id": "351feb92acd4409b8d25e4b004b147b0",
       "version_major": 2,
       "version_minor": 0
      },
      "text/plain": [
       "  0%|          | 0/4 [00:00<?, ?it/s]"
      ]
     },
     "metadata": {},
     "output_type": "display_data"
    }
   ],
   "source": [
    "def trim_length(x, is_context=False, cap_char_len=150):\n",
    "    if not is_context:\n",
    "        x = x[:cap_char_len]\n",
    "    else:\n",
    "        \"[SEP]\".join([i[:cap_char_len] for i in x.split(\"[SEP]\")])\n",
    "    return x\n",
    "\n",
    "for col in tqdm(curr_text_cols, position=0, leave=True, total=len(curr_text_cols)):\n",
    "    tmp[col] = tmp[col].apply(trim_length, cap_char_len=150)\n",
    "    \n",
    "for col in tqdm(context_text_cols, position=0, leave=True, total=len(context_text_cols)):\n",
    "    tmp[col] = tmp[col].apply(trim_length, cap_char_len=150)"
   ]
  },
  {
   "cell_type": "code",
   "execution_count": 8,
   "id": "9d83d33a-c636-4a71-a2a1-98ebc1589d74",
   "metadata": {},
   "outputs": [],
   "source": [
    "def concatenate_str(x):\n",
    "    x = list(filter(None, x.values))\n",
    "    x = \" [SEP] \".join(x)\n",
    "    x = x.replace(\"[SEP] [SEP]\", \"[SEP]\")  # Remove doubles.\n",
    "        \n",
    "    if not x:\n",
    "        x = \"Description does not exist\"\n",
    "        \n",
    "    return x\n",
    "\n",
    "tmp[\"text\"] = tmp[curr_text_cols[:-1]+context_text_cols].apply(concatenate_str, axis=1)"
   ]
  },
  {
   "cell_type": "code",
   "execution_count": 9,
   "id": "2f83cc5b-d23c-4b4c-a61b-869f9c5125b3",
   "metadata": {},
   "outputs": [],
   "source": [
    "tokenizer = AutoTokenizer.from_pretrained(\"../../input/model23/\"+'tokenizer/')\n",
    "\n",
    "def get_max_length(train):\n",
    "    lengths = []\n",
    "    for text in tqdm(train['text'].fillna(\"\").values, total = len(train)):\n",
    "        length = len(tokenizer(text, add_special_tokens = False)['input_ids'])\n",
    "        lengths.append(length)\n",
    "    max_len = max(lengths) + 2 # cls & sep\n",
    "    print(f\"max_len: {max_len}\")\n",
    "    return max_len, lengths"
   ]
  },
  {
   "cell_type": "code",
   "execution_count": 10,
   "id": "e5a46fff-7142-42cc-81a4-9f3e94ce4589",
   "metadata": {},
   "outputs": [
    {
     "data": {
      "application/vnd.jupyter.widget-view+json": {
       "model_id": "d7ba2aacffe344f59c522ba707705c52",
       "version_major": 2,
       "version_minor": 0
      },
      "text/plain": [
       "  0%|          | 0/615170 [00:00<?, ?it/s]"
      ]
     },
     "metadata": {},
     "output_type": "display_data"
    },
    {
     "name": "stdout",
     "output_type": "stream",
     "text": [
      "max_len: 650\n"
     ]
    }
   ],
   "source": [
    "max_len, lengths = get_max_length(tmp)"
   ]
  },
  {
   "cell_type": "code",
   "execution_count": 28,
   "id": "3f3d00fc-ac69-432c-b540-b61c8251427b",
   "metadata": {},
   "outputs": [],
   "source": [
    "tmp.to_csv(\"../../input/prep_cleaned_train_context_5fold.csv\", index=False)"
   ]
  },
  {
   "cell_type": "code",
   "execution_count": null,
   "id": "6c86b326-cc0d-4725-8c56-b804e17023c3",
   "metadata": {},
   "outputs": [],
   "source": []
  }
 ],
 "metadata": {
  "kernelspec": {
   "display_name": "python37",
   "language": "python",
   "name": "python37"
  },
  "language_info": {
   "codemirror_mode": {
    "name": "ipython",
    "version": 3
   },
   "file_extension": ".py",
   "mimetype": "text/x-python",
   "name": "python",
   "nbconvert_exporter": "python",
   "pygments_lexer": "ipython3",
   "version": "3.7.12"
  }
 },
 "nbformat": 4,
 "nbformat_minor": 5
}
