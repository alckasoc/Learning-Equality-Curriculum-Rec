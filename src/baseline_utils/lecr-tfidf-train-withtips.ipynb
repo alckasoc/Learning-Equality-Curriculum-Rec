{
 "cells": [
  {
   "cell_type": "markdown",
   "metadata": {},
   "source": [
    "# Examples of validation methods correlated with Public Score\n",
    "\n",
    "The content of train could be the answer to test, but there is content in test that is not connected to train at all.\n",
    "Therefore, I have split the content in such a way that the content that is only connected to test is not used in the training.\n",
    "(All contents are used during inference).\n",
    "\n",
    "> The full test set includes an additional 10,000 topics (none present in the training set) and a large number of additional content items. The additional content items are only correlated to test set topics.\n",
    "\n",
    "More information is available in [Discussion](https://www.kaggle.com/competitions/learning-equality-curriculum-recommendations/discussion/372875)"
   ]
  },
  {
   "cell_type": "code",
   "execution_count": 2,
   "metadata": {
    "_cell_guid": "b1076dfc-b9ad-4769-8c92-a6c4dae69d19",
    "_uuid": "8f2839f25d086af736a60e9eeb907d3b93b6e0e5",
    "tags": []
   },
   "outputs": [],
   "source": [
    "from pathlib import Path\n",
    "import pandas as pd\n",
    "import numpy as np\n",
    "from sklearn.model_selection import StratifiedGroupKFold\n",
    "from sklearn.feature_extraction.text import TfidfVectorizer\n",
    "from sklearn.decomposition import TruncatedSVD\n",
    "from sklearn.pipeline import Pipeline\n",
    "# from cuml import NearestNeighbors"
   ]
  },
  {
   "cell_type": "code",
   "execution_count": 3,
   "metadata": {
    "tags": []
   },
   "outputs": [],
   "source": [
    "INPUT_DIR = Path('../../input/')\n",
    "N_SPLITS = 6\n",
    "N_NEIGHBORS_LIST = [1, 2, 3, 8, 12]\n",
    "N_COMPONENTS = 128"
   ]
  },
  {
   "cell_type": "code",
   "execution_count": 4,
   "metadata": {
    "tags": []
   },
   "outputs": [],
   "source": [
    "topic_df = pd.read_csv(INPUT_DIR / 'topics.csv')\n",
    "content_df = pd.read_csv(INPUT_DIR / 'content.csv')\n",
    "corr_df = pd.read_csv(INPUT_DIR / 'correlations.csv')\n",
    "topic_df = topic_df.merge(\n",
    "    corr_df, left_on='id', right_on='topic_id', how='left'\n",
    ")\n",
    "topic_df = topic_df.drop(columns=['topic_id'])"
   ]
  },
  {
   "cell_type": "markdown",
   "metadata": {},
   "source": [
    "# Split"
   ]
  },
  {
   "cell_type": "code",
   "execution_count": 5,
   "metadata": {
    "tags": []
   },
   "outputs": [],
   "source": [
    "topic_df['stratify_category'] = (\n",
    "    topic_df['category'] != 'source' + '_' +\n",
    "    topic_df['description'].notnull().astype(str)\n",
    "#     topic_df['has_content'].astype(str)\n",
    ")"
   ]
  },
  {
   "cell_type": "code",
   "execution_count": 6,
   "metadata": {
    "tags": []
   },
   "outputs": [],
   "source": [
    "kf = StratifiedGroupKFold(n_splits=N_SPLITS, shuffle=True, random_state=42)\n",
    "folds = list(kf.split(topic_df, topic_df['stratify_category'], groups=topic_df[\"channel\"]))\n",
    "topic_df['fold'] = np.nan\n",
    "content_df['fold'] = np.nan\n",
    "\n",
    "for fold, (train_idx, val_idx) in enumerate(folds):\n",
    "    topic_df.loc[val_idx, \"fold\"] = fold\n",
    "    train_topic_df = topic_df.query(f\"fold != {fold}\").reset_index(drop=True)\n",
    "    val_topic_df = topic_df.query(f\"fold == {fold}\").reset_index(drop=True)\n",
    "\n",
    "    train_content_ids = set(train_topic_df[\"content_ids\"].str.split().explode().to_list())\n",
    "    val_content_ids = set(val_topic_df[\"content_ids\"].str.split().explode().to_list())\n",
    "    only_val_content_ids = val_content_ids - train_content_ids\n",
    "    content_df.loc[content_df['id'].isin(only_val_content_ids), 'fold'] = fold"
   ]
  },
  {
   "cell_type": "code",
   "execution_count": 7,
   "metadata": {
    "tags": []
   },
   "outputs": [
    {
     "data": {
      "text/plain": [
       "3.0    15133\n",
       "1.0    14599\n",
       "0.0    14348\n",
       "4.0    13072\n",
       "2.0    11126\n",
       "5.0     8694\n",
       "Name: fold, dtype: int64"
      ]
     },
     "metadata": {},
     "output_type": "display_data"
    }
   ],
   "source": [
    "display(topic_df['fold'].value_counts())"
   ]
  },
  {
   "cell_type": "code",
   "execution_count": 14,
   "metadata": {},
   "outputs": [
    {
     "data": {
      "text/plain": [
       "4.0    29161\n",
       "3.0    27354\n",
       "NaN    25292\n",
       "1.0    20403\n",
       "0.0    19446\n",
       "5.0    17532\n",
       "2.0    14859\n",
       "Name: fold, dtype: int64"
      ]
     },
     "execution_count": 14,
     "metadata": {},
     "output_type": "execute_result"
    }
   ],
   "source": [
    "content_df.fold.value_counts(dropna=False)"
   ]
  },
  {
   "cell_type": "code",
   "execution_count": 15,
   "metadata": {},
   "outputs": [
    {
     "data": {
      "text/plain": [
       "3.0    15133\n",
       "1.0    14599\n",
       "0.0    14348\n",
       "4.0    13072\n",
       "2.0    11126\n",
       "5.0     8694\n",
       "Name: fold, dtype: int64"
      ]
     },
     "execution_count": 15,
     "metadata": {},
     "output_type": "execute_result"
    }
   ],
   "source": [
    "topic_df.fold.value_counts(dropna=False)"
   ]
  },
  {
   "cell_type": "code",
   "execution_count": 18,
   "metadata": {},
   "outputs": [
    {
     "data": {
      "text/plain": [
       "0        0.0\n",
       "1        4.0\n",
       "2        4.0\n",
       "3        5.0\n",
       "4        0.0\n",
       "        ... \n",
       "76967    5.0\n",
       "76968    2.0\n",
       "76969    1.0\n",
       "76970    4.0\n",
       "76971    1.0\n",
       "Name: fold, Length: 76972, dtype: float64"
      ]
     },
     "execution_count": 18,
     "metadata": {},
     "output_type": "execute_result"
    }
   ],
   "source": [
    "topic_df.fold"
   ]
  },
  {
   "cell_type": "code",
   "execution_count": 19,
   "metadata": {},
   "outputs": [
    {
     "data": {
      "text/plain": [
       "0         NaN\n",
       "1         5.0\n",
       "2         3.0\n",
       "3         1.0\n",
       "4         2.0\n",
       "         ... \n",
       "154042    3.0\n",
       "154043    5.0\n",
       "154044    4.0\n",
       "154045    4.0\n",
       "154046    0.0\n",
       "Name: fold, Length: 154047, dtype: float64"
      ]
     },
     "execution_count": 19,
     "metadata": {},
     "output_type": "execute_result"
    }
   ],
   "source": [
    "content_df.fold"
   ]
  },
  {
   "cell_type": "markdown",
   "metadata": {},
   "source": [
    "# Combining with train.csv"
   ]
  },
  {
   "cell_type": "code",
   "execution_count": 59,
   "metadata": {},
   "outputs": [],
   "source": [
    "train = pd.read_csv(\"../../input/train_context.csv\")"
   ]
  },
  {
   "cell_type": "code",
   "execution_count": 60,
   "metadata": {},
   "outputs": [],
   "source": [
    "train = train.merge(topic_df[[\"id\", \"channel\", \"category\", \"language\", \"fold\"]], how=\"left\", left_on=\"topics_ids\", right_on=\"id\").drop(columns=[\"id\"])\n",
    "train = train.rename(columns={\"fold\": \"topic_fold\"})"
   ]
  },
  {
   "cell_type": "code",
   "execution_count": 63,
   "metadata": {},
   "outputs": [
    {
     "data": {
      "text/plain": [
       "(615170, 16)"
      ]
     },
     "execution_count": 63,
     "metadata": {},
     "output_type": "execute_result"
    }
   ],
   "source": [
    "train.shape"
   ]
  },
  {
   "cell_type": "code",
   "execution_count": 64,
   "metadata": {},
   "outputs": [],
   "source": [
    "train = train.merge(content_df[[\"id\", \"kind\", \"language\", \"fold\"]], how=\"left\", left_on=\"content_ids\", right_on=\"id\").drop(columns=[\"id\"])\n",
    "train = train.rename(columns={\"fold\": \"content_fold\"})"
   ]
  },
  {
   "cell_type": "code",
   "execution_count": 68,
   "metadata": {},
   "outputs": [],
   "source": [
    "train = train.rename(columns={\"category\": \"topic_category\", \n",
    "                              \"language_x\": \"topic_language\", \n",
    "                              \"kind\": \"content_kind\",\n",
    "                              \"language_y\": \"content_language\"})"
   ]
  },
  {
   "cell_type": "code",
   "execution_count": 74,
   "metadata": {},
   "outputs": [
    {
     "data": {
      "text/plain": [
       "Index(['topics_ids', 'content_ids', 'topic_title', 'topic_description',\n",
       "       'content_title', 'content_description', 'content_text',\n",
       "       'topic_parent_title', 'topic_parent_description', 'topic_child_title',\n",
       "       'topic_child_description', 'target', 'channel', 'topic_category',\n",
       "       'topic_language', 'topic_fold', 'content_kind', 'content_language',\n",
       "       'content_fold'],\n",
       "      dtype='object')"
      ]
     },
     "execution_count": 74,
     "metadata": {},
     "output_type": "execute_result"
    }
   ],
   "source": [
    "train.columns"
   ]
  },
  {
   "cell_type": "code",
   "execution_count": 77,
   "metadata": {},
   "outputs": [],
   "source": [
    "new_cols = [\n",
    "    'topics_ids', 'content_ids', 'channel', 'topic_title', 'topic_description', \n",
    "    'topic_parent_title', 'topic_parent_description', 'topic_child_title', 'topic_child_description',\n",
    "    'topic_category', 'topic_language',\n",
    "    'content_title', 'content_description', 'content_text',\n",
    "    'content_kind', 'content_language', \n",
    "    'target',\n",
    "    'topic_fold', 'content_fold'\n",
    "]\n",
    "assert len(set(new_cols)) == len(set(train.columns))\n",
    "\n",
    "train = train.loc[:, new_cols]"
   ]
  },
  {
   "cell_type": "code",
   "execution_count": 79,
   "metadata": {},
   "outputs": [],
   "source": [
    "train.to_csv(\"../../input/train_context_5fold.csv\", index=False)"
   ]
  },
  {
   "cell_type": "code",
   "execution_count": null,
   "metadata": {},
   "outputs": [],
   "source": []
  }
 ],
 "metadata": {
  "kernelspec": {
   "display_name": "Python 3 (ipykernel)",
   "language": "python",
   "name": "python3"
  },
  "language_info": {
   "codemirror_mode": {
    "name": "ipython",
    "version": 3
   },
   "file_extension": ".py",
   "mimetype": "text/x-python",
   "name": "python",
   "nbconvert_exporter": "python",
   "pygments_lexer": "ipython3",
   "version": "3.9.7"
  }
 },
 "nbformat": 4,
 "nbformat_minor": 4
}
