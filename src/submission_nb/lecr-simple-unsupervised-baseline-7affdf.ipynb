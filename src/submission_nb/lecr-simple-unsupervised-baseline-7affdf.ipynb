{
 "cells": [
  {
   "cell_type": "markdown",
   "id": "f21b98c0",
   "metadata": {
    "papermill": {
     "duration": 0.005095,
     "end_time": "2023-01-05T01:30:59.445318",
     "exception": false,
     "start_time": "2023-01-05T01:30:59.440223",
     "status": "completed"
    },
    "tags": []
   },
   "source": [
    "# LECR Simple Unsupervised Baseline\n",
    "\n",
    "This code predict similar contents without training. It calculate the cosine distance between topic and content using a vector of multilingual models.\n",
    "\n",
    "The single most similar content is used as the predicted result, but you can also select multiple content results by using a similarity threshold.\n",
    "\n",
    "\n",
    "### Update:\n",
    "\n",
    "#### [Version 5](https://www.kaggle.com/code/takamichitoda/lecr-simple-unsupervised-baseline?scriptVersionId=113958919): Public Score=0.145\n",
    "- baseline\n",
    "\n",
    "#### [Version 8](https://www.kaggle.com/code/takamichitoda/lecr-simple-unsupervised-baseline?scriptVersionId=114180880): Public Score=0.196\n",
    "- Filter by language\n",
    "- Fixed `SELECT_TOP_N` (1 -> 5)\n",
    "- Pre-calculated the content and topic vectors for debugging and added them as a [dataset](https://www.kaggle.com/datasets/takamichitoda/lecr-mdistilbert-sentence-vector).\n",
    "\n",
    "#### [Version 17](https://www.kaggle.com/code/takamichitoda/lecr-simple-unsupervised-baseline?scriptVersionId=114273565): Public Score=0.143\n",
    "- Join text with `[SEP]` tokens\n",
    "- Use [pre-calcurated vectors](https://www.kaggle.com/datasets/takamichitoda/lecr-mdistilbert-sentence-vector) to reduce computation time\n",
    "- Improved efficiency of language filter\n",
    "\n",
    "#### [Version 19](https://www.kaggle.com/code/takamichitoda/lecr-simple-unsupervised-baseline?scriptVersionId=114362087): Public Score=0.174\n",
    "- Content with title or description doesn't use text columns. (If both don't exist, use text column.)\n",
    "\n",
    "#### [Version 20](https://www.kaggle.com/code/takamichitoda/lecr-simple-unsupervised-baseline?scriptVersionId=114375844): Public Score=0.182\n",
    "- Consider topics and content with the same title. (ref: [my disucussion](https://www.kaggle.com/competitions/learning-equality-curriculum-recommendations/discussion/373350))\n",
    "\n",
    "#### Version 32: latest\n",
    "- texts vectorization only use title columns\n",
    "- `paraphrase-multilingual-mpnet-base-v2`\n",
    "- Change language filter logic"
   ]
  },
  {
   "cell_type": "code",
   "execution_count": 1,
   "id": "fb720419",
   "metadata": {
    "execution": {
     "iopub.execute_input": "2023-01-05T01:30:59.455509Z",
     "iopub.status.busy": "2023-01-05T01:30:59.454953Z",
     "iopub.status.idle": "2023-01-05T01:31:05.381882Z",
     "shell.execute_reply": "2023-01-05T01:31:05.380698Z"
    },
    "papermill": {
     "duration": 5.935774,
     "end_time": "2023-01-05T01:31:05.385119",
     "exception": false,
     "start_time": "2023-01-05T01:30:59.449345",
     "status": "completed"
    },
    "tags": []
   },
   "outputs": [
    {
     "name": "stdout",
     "output_type": "stream",
     "text": [
      "env: TOKENIZERS_PARALLELISM=true\n"
     ]
    }
   ],
   "source": [
    "import os\n",
    "import json\n",
    "import numpy as np\n",
    "import pandas as pd\n",
    "from tqdm.auto import tqdm\n",
    "\n",
    "import torch\n",
    "from torch import nn\n",
    "\n",
    "from transformers import AutoTokenizer, AutoModel\n",
    "\n",
    "import cupy as cp\n",
    "from cuml.metrics import pairwise_distances\n",
    "\n",
    "device = \"cuda\" if torch.cuda.is_available() else \"cpu\"\n",
    "%env TOKENIZERS_PARALLELISM=true"
   ]
  },
  {
   "cell_type": "code",
   "execution_count": 2,
   "id": "24214da8",
   "metadata": {
    "execution": {
     "iopub.execute_input": "2023-01-05T01:31:05.395291Z",
     "iopub.status.busy": "2023-01-05T01:31:05.394750Z",
     "iopub.status.idle": "2023-01-05T01:31:05.399934Z",
     "shell.execute_reply": "2023-01-05T01:31:05.398796Z"
    },
    "papermill": {
     "duration": 0.012784,
     "end_time": "2023-01-05T01:31:05.402375",
     "exception": false,
     "start_time": "2023-01-05T01:31:05.389591",
     "status": "completed"
    },
    "tags": []
   },
   "outputs": [],
   "source": [
    "class CFG:\n",
    "    INPUT = '/kaggle/input/learning-equality-curriculum-recommendations'\n",
    "    MODEL = '/kaggle/input/sbert-models/paraphrase-multilingual-mpnet-base-v2'\n",
    "    PRE_CALC_VECTORS = \"/kaggle/input/lecr-mdistilbert-sentence-vector/\"\n",
    "    MAX_LEN = 512\n",
    "    SELECT_TOP_N = 5"
   ]
  },
  {
   "cell_type": "code",
   "execution_count": 3,
   "id": "09deb57f",
   "metadata": {
    "execution": {
     "iopub.execute_input": "2023-01-05T01:31:05.412072Z",
     "iopub.status.busy": "2023-01-05T01:31:05.411368Z",
     "iopub.status.idle": "2023-01-05T01:31:25.245008Z",
     "shell.execute_reply": "2023-01-05T01:31:25.243837Z"
    },
    "papermill": {
     "duration": 19.840949,
     "end_time": "2023-01-05T01:31:25.247451",
     "exception": false,
     "start_time": "2023-01-05T01:31:05.406502",
     "status": "completed"
    },
    "tags": []
   },
   "outputs": [],
   "source": [
    "content_df = pd.read_csv(f'{CFG.INPUT}/content.csv')\n",
    "correlations_df = pd.read_csv(f'{CFG.INPUT}/correlations.csv')\n",
    "topics_df = pd.read_csv(f'{CFG.INPUT}/topics.csv')\n",
    "sub_df = pd.read_csv(f'{CFG.INPUT}/sample_submission.csv')"
   ]
  },
  {
   "cell_type": "code",
   "execution_count": 4,
   "id": "5a0b108c",
   "metadata": {
    "execution": {
     "iopub.execute_input": "2023-01-05T01:31:25.257772Z",
     "iopub.status.busy": "2023-01-05T01:31:25.256825Z",
     "iopub.status.idle": "2023-01-05T01:31:25.307977Z",
     "shell.execute_reply": "2023-01-05T01:31:25.306727Z"
    },
    "papermill": {
     "duration": 0.058626,
     "end_time": "2023-01-05T01:31:25.310365",
     "exception": false,
     "start_time": "2023-01-05T01:31:25.251739",
     "status": "completed"
    },
    "tags": []
   },
   "outputs": [],
   "source": [
    "content_df['title_duplicated'] = content_df['title'].duplicated(keep=False)\n",
    "topics_df['title_duplicated'] = topics_df['title'].duplicated(keep=False)"
   ]
  },
  {
   "cell_type": "code",
   "execution_count": 5,
   "id": "a42a6872",
   "metadata": {
    "execution": {
     "iopub.execute_input": "2023-01-05T01:31:25.320060Z",
     "iopub.status.busy": "2023-01-05T01:31:25.319711Z",
     "iopub.status.idle": "2023-01-05T01:31:45.431695Z",
     "shell.execute_reply": "2023-01-05T01:31:45.430423Z"
    },
    "papermill": {
     "duration": 20.119839,
     "end_time": "2023-01-05T01:31:45.434389",
     "exception": false,
     "start_time": "2023-01-05T01:31:25.314550",
     "status": "completed"
    },
    "tags": []
   },
   "outputs": [],
   "source": [
    "model = AutoModel.from_pretrained(CFG.MODEL)\n",
    "model.eval()\n",
    "model.to(device)\n",
    "\n",
    "tokenizer = AutoTokenizer.from_pretrained(CFG.MODEL)"
   ]
  },
  {
   "cell_type": "code",
   "execution_count": 6,
   "id": "42404205",
   "metadata": {
    "execution": {
     "iopub.execute_input": "2023-01-05T01:31:45.444339Z",
     "iopub.status.busy": "2023-01-05T01:31:45.444003Z",
     "iopub.status.idle": "2023-01-05T01:31:51.382668Z",
     "shell.execute_reply": "2023-01-05T01:31:51.381678Z"
    },
    "papermill": {
     "duration": 5.946376,
     "end_time": "2023-01-05T01:31:51.385108",
     "exception": false,
     "start_time": "2023-01-05T01:31:45.438732",
     "status": "completed"
    },
    "tags": []
   },
   "outputs": [],
   "source": [
    "content_vecs = np.load(f\"{CFG.PRE_CALC_VECTORS}/content_mpnet_avg.npy\")\n",
    "topic_vecs = np.load(f\"{CFG.PRE_CALC_VECTORS}/topic_mpnet_avg.npy\")\n",
    "with open(f\"{CFG.PRE_CALC_VECTORS}/content_id2idx.json\", 'r') as f:\n",
    "    content_id2idx = json.load(f)\n",
    "with open(f\"{CFG.PRE_CALC_VECTORS}/topic_id2idx.json\", 'r') as f:\n",
    "    topic_id2idx = json.load(f)"
   ]
  },
  {
   "cell_type": "code",
   "execution_count": 7,
   "id": "a0eec208",
   "metadata": {
    "execution": {
     "iopub.execute_input": "2023-01-05T01:31:51.394661Z",
     "iopub.status.busy": "2023-01-05T01:31:51.394353Z",
     "iopub.status.idle": "2023-01-05T01:32:03.756496Z",
     "shell.execute_reply": "2023-01-05T01:32:03.755396Z"
    },
    "papermill": {
     "duration": 12.369902,
     "end_time": "2023-01-05T01:32:03.759246",
     "exception": false,
     "start_time": "2023-01-05T01:31:51.389344",
     "status": "completed"
    },
    "tags": []
   },
   "outputs": [
    {
     "data": {
      "application/vnd.jupyter.widget-view+json": {
       "model_id": "8f405656ece14e5aa312e1d7faad683c",
       "version_major": 2,
       "version_minor": 0
      },
      "text/plain": [
       "  0%|          | 0/154047 [00:00<?, ?it/s]"
      ]
     },
     "metadata": {},
     "output_type": "display_data"
    }
   ],
   "source": [
    "vecs = []\n",
    "for _, row in tqdm(content_df.fillna(\"\").iterrows(), total=len(content_df)):\n",
    "    try:\n",
    "        vec = content_vecs[content_id2idx[row['id']], :]\n",
    "        vec = torch.tensor(vec)\n",
    "    except KeyError:\n",
    "        texts = row['title']\n",
    "        if texts == \"\":\n",
    "            texts = \"no title\"\n",
    "        tok = tokenizer(texts)\n",
    "        for k, v in tok.items():\n",
    "            tok[k] = torch.tensor(v[:CFG.MAX_LEN]).to(device).unsqueeze(0)\n",
    "        with torch.no_grad():\n",
    "            output = model(**tok)\n",
    "        vec = output.last_hidden_state.squeeze(0).mean(0).cpu()\n",
    "\n",
    "    vecs.append(vec)\n",
    "\n",
    "vecs1 = torch.stack(vecs)"
   ]
  },
  {
   "cell_type": "code",
   "execution_count": 8,
   "id": "7818d504",
   "metadata": {
    "execution": {
     "iopub.execute_input": "2023-01-05T01:32:03.769694Z",
     "iopub.status.busy": "2023-01-05T01:32:03.769390Z",
     "iopub.status.idle": "2023-01-05T01:32:03.790091Z",
     "shell.execute_reply": "2023-01-05T01:32:03.789171Z"
    },
    "papermill": {
     "duration": 0.028264,
     "end_time": "2023-01-05T01:32:03.792218",
     "exception": false,
     "start_time": "2023-01-05T01:32:03.763954",
     "status": "completed"
    },
    "tags": []
   },
   "outputs": [],
   "source": [
    "sub_topic_ids = sub_df['topic_id'].tolist()\n",
    "_topics_df = topics_df.query(f'id in {sub_topic_ids}').reset_index(drop=True)"
   ]
  },
  {
   "cell_type": "code",
   "execution_count": 9,
   "id": "f13e5e6e",
   "metadata": {
    "execution": {
     "iopub.execute_input": "2023-01-05T01:32:03.802273Z",
     "iopub.status.busy": "2023-01-05T01:32:03.801598Z",
     "iopub.status.idle": "2023-01-05T01:32:03.999833Z",
     "shell.execute_reply": "2023-01-05T01:32:03.998748Z"
    },
    "papermill": {
     "duration": 0.205469,
     "end_time": "2023-01-05T01:32:04.001900",
     "exception": false,
     "start_time": "2023-01-05T01:32:03.796431",
     "status": "completed"
    },
    "tags": []
   },
   "outputs": [
    {
     "data": {
      "application/vnd.jupyter.widget-view+json": {
       "model_id": "2f0ff406fb224570bb8449e7e35fccf8",
       "version_major": 2,
       "version_minor": 0
      },
      "text/plain": [
       "  0%|          | 0/5 [00:00<?, ?it/s]"
      ]
     },
     "metadata": {},
     "output_type": "display_data"
    }
   ],
   "source": [
    "vecs = []\n",
    "for _, row in tqdm(_topics_df.fillna('').iterrows(), total=len(_topics_df)):\n",
    "    try:\n",
    "        vec = topic_vecs[topic_id2idx[row['id']], :]\n",
    "        vec = torch.tensor(vec)\n",
    "    except KeyError:\n",
    "        texts = row['title']\n",
    "        if texts == '':\n",
    "            texts = \"no title\"\n",
    "            \n",
    "        tok = tokenizer(texts)\n",
    "        for k, v in tok.items():\n",
    "            tok[k] = torch.tensor(v[:CFG.MAX_LEN]).to(device).unsqueeze(0)\n",
    "        with torch.no_grad():\n",
    "            output = model(**tok)\n",
    "        vec = output.last_hidden_state.squeeze(0).mean(0).cpu()\n",
    "    \n",
    "    vecs.append(vec)\n",
    "    \n",
    "vecs2 = torch.stack(vecs)"
   ]
  },
  {
   "cell_type": "code",
   "execution_count": 10,
   "id": "046cd446",
   "metadata": {
    "execution": {
     "iopub.execute_input": "2023-01-05T01:32:04.013369Z",
     "iopub.status.busy": "2023-01-05T01:32:04.012341Z",
     "iopub.status.idle": "2023-01-05T01:32:04.380837Z",
     "shell.execute_reply": "2023-01-05T01:32:04.379835Z"
    },
    "papermill": {
     "duration": 0.3766,
     "end_time": "2023-01-05T01:32:04.383460",
     "exception": false,
     "start_time": "2023-01-05T01:32:04.006860",
     "status": "completed"
    },
    "tags": []
   },
   "outputs": [],
   "source": [
    "vecs1 = cp.asarray(vecs1)\n",
    "vecs2 = cp.asarray(vecs2)"
   ]
  },
  {
   "cell_type": "code",
   "execution_count": 11,
   "id": "85b19732",
   "metadata": {
    "execution": {
     "iopub.execute_input": "2023-01-05T01:32:04.394941Z",
     "iopub.status.busy": "2023-01-05T01:32:04.393281Z",
     "iopub.status.idle": "2023-01-05T01:32:04.406509Z",
     "shell.execute_reply": "2023-01-05T01:32:04.405287Z"
    },
    "papermill": {
     "duration": 0.020862,
     "end_time": "2023-01-05T01:32:04.408879",
     "exception": false,
     "start_time": "2023-01-05T01:32:04.388017",
     "status": "completed"
    },
    "tags": []
   },
   "outputs": [
    {
     "data": {
      "text/plain": [
       "en     36161\n",
       "es     13910\n",
       "pt      4177\n",
       "ar      3701\n",
       "fr      3701\n",
       "bg      2867\n",
       "sw      2860\n",
       "gu      2320\n",
       "bn      2176\n",
       "hi      1786\n",
       "it       866\n",
       "zh       862\n",
       "mr       300\n",
       "fil      247\n",
       "as       167\n",
       "my       135\n",
       "km       121\n",
       "kn       119\n",
       "te        93\n",
       "or        70\n",
       "ur        66\n",
       "ta        60\n",
       "pnb       51\n",
       "pl        43\n",
       "tr        40\n",
       "swa       35\n",
       "ru        34\n",
       "mul        4\n",
       "Name: language, dtype: int64"
      ]
     },
     "execution_count": 11,
     "metadata": {},
     "output_type": "execute_result"
    }
   ],
   "source": [
    "topics_df['language'].value_counts()"
   ]
  },
  {
   "cell_type": "code",
   "execution_count": 12,
   "id": "59d4f3e3",
   "metadata": {
    "execution": {
     "iopub.execute_input": "2023-01-05T01:32:04.419141Z",
     "iopub.status.busy": "2023-01-05T01:32:04.418827Z",
     "iopub.status.idle": "2023-01-05T01:32:04.424725Z",
     "shell.execute_reply": "2023-01-05T01:32:04.423683Z"
    },
    "papermill": {
     "duration": 0.014268,
     "end_time": "2023-01-05T01:32:04.427923",
     "exception": false,
     "start_time": "2023-01-05T01:32:04.413655",
     "status": "completed"
    },
    "tags": []
   },
   "outputs": [
    {
     "data": {
      "text/plain": [
       "(5, 768)"
      ]
     },
     "execution_count": 12,
     "metadata": {},
     "output_type": "execute_result"
    }
   ],
   "source": [
    "vecs2.shape"
   ]
  },
  {
   "cell_type": "code",
   "execution_count": 13,
   "id": "689b3bed",
   "metadata": {
    "execution": {
     "iopub.execute_input": "2023-01-05T01:32:04.437489Z",
     "iopub.status.busy": "2023-01-05T01:32:04.437222Z",
     "iopub.status.idle": "2023-01-05T01:32:05.475386Z",
     "shell.execute_reply": "2023-01-05T01:32:05.474406Z"
    },
    "papermill": {
     "duration": 1.045624,
     "end_time": "2023-01-05T01:32:05.477769",
     "exception": false,
     "start_time": "2023-01-05T01:32:04.432145",
     "status": "completed"
    },
    "tags": []
   },
   "outputs": [],
   "source": [
    "predicts = []\n",
    "for i2, v2 in enumerate(vecs2):\n",
    "    lang = _topics_df.loc[i2, \"language\"]\n",
    "    if lang == \"en\" or lang == \"es\": \n",
    "        predicts.append(\"\")\n",
    "        continue\n",
    "    _content_df = content_df.query(f'language==\"{lang}\"')\n",
    "    lang_i = _content_df.index.tolist()\n",
    "\n",
    "    sim = pairwise_distances(v2.reshape(1, len(v2)), vecs1[lang_i, :], metric='cosine')\n",
    "    res = np.array(lang_i)[sim.argsort(1)[0].get()][:CFG.SELECT_TOP_N]\n",
    "    p1 = [content_df.loc[s, 'id'] for s in res]\n",
    "    \n",
    "    topic_id = _topics_df.loc[i2, \"id\"]\n",
    "    title = _topics_df.query(f\"id=='{topic_id}'\")['title'].iloc[0]\n",
    "    \n",
    "    p2 = _content_df[_content_df['title'] == title]['id'].tolist()\n",
    "    \n",
    "    for _p in p1:\n",
    "        if len(p2) >= CFG.SELECT_TOP_N:\n",
    "            break\n",
    "        if _p in p2:\n",
    "            continue\n",
    "        p2.append(_p)\n",
    "    p = \" \".join(p2)\n",
    "    \n",
    "    predicts.append(p)"
   ]
  },
  {
   "cell_type": "code",
   "execution_count": 14,
   "id": "aee6f1f2",
   "metadata": {
    "execution": {
     "iopub.execute_input": "2023-01-05T01:32:05.490685Z",
     "iopub.status.busy": "2023-01-05T01:32:05.488976Z",
     "iopub.status.idle": "2023-01-05T01:32:05.502377Z",
     "shell.execute_reply": "2023-01-05T01:32:05.500955Z"
    },
    "papermill": {
     "duration": 0.022065,
     "end_time": "2023-01-05T01:32:05.504458",
     "exception": false,
     "start_time": "2023-01-05T01:32:05.482393",
     "status": "completed"
    },
    "tags": []
   },
   "outputs": [
    {
     "data": {
      "text/html": [
       "<div>\n",
       "<style scoped>\n",
       "    .dataframe tbody tr th:only-of-type {\n",
       "        vertical-align: middle;\n",
       "    }\n",
       "\n",
       "    .dataframe tbody tr th {\n",
       "        vertical-align: top;\n",
       "    }\n",
       "\n",
       "    .dataframe thead th {\n",
       "        text-align: right;\n",
       "    }\n",
       "</style>\n",
       "<table border=\"1\" class=\"dataframe\">\n",
       "  <thead>\n",
       "    <tr style=\"text-align: right;\">\n",
       "      <th></th>\n",
       "      <th>topic_id</th>\n",
       "      <th>content_ids</th>\n",
       "    </tr>\n",
       "  </thead>\n",
       "  <tbody>\n",
       "    <tr>\n",
       "      <th>0</th>\n",
       "      <td>t_00004da3a1b2</td>\n",
       "      <td>c_e1e8557d7c61 c_6f1dcaa3ca40 c_80e7e76ff4db c...</td>\n",
       "    </tr>\n",
       "    <tr>\n",
       "      <th>1</th>\n",
       "      <td>t_00068291e9a4</td>\n",
       "      <td>c_e88be716634d c_89ce9367be10 c_ac1672cdcd2c c...</td>\n",
       "    </tr>\n",
       "    <tr>\n",
       "      <th>2</th>\n",
       "      <td>t_00069b63a70a</td>\n",
       "      <td></td>\n",
       "    </tr>\n",
       "    <tr>\n",
       "      <th>3</th>\n",
       "      <td>t_0006d41a73a8</td>\n",
       "      <td>c_e24eca6ed18a c_62191f77b582 c_5e4c167bfeba c...</td>\n",
       "    </tr>\n",
       "    <tr>\n",
       "      <th>4</th>\n",
       "      <td>t_4054df11a74e</td>\n",
       "      <td></td>\n",
       "    </tr>\n",
       "  </tbody>\n",
       "</table>\n",
       "</div>"
      ],
      "text/plain": [
       "         topic_id                                        content_ids\n",
       "0  t_00004da3a1b2  c_e1e8557d7c61 c_6f1dcaa3ca40 c_80e7e76ff4db c...\n",
       "1  t_00068291e9a4  c_e88be716634d c_89ce9367be10 c_ac1672cdcd2c c...\n",
       "2  t_00069b63a70a                                                   \n",
       "3  t_0006d41a73a8  c_e24eca6ed18a c_62191f77b582 c_5e4c167bfeba c...\n",
       "4  t_4054df11a74e                                                   "
      ]
     },
     "execution_count": 14,
     "metadata": {},
     "output_type": "execute_result"
    }
   ],
   "source": [
    "sub_df['content_ids'] = predicts\n",
    "sub_df.head()"
   ]
  },
  {
   "cell_type": "code",
   "execution_count": 15,
   "id": "7e9e65f8",
   "metadata": {
    "execution": {
     "iopub.execute_input": "2023-01-05T01:32:05.514445Z",
     "iopub.status.busy": "2023-01-05T01:32:05.514171Z",
     "iopub.status.idle": "2023-01-05T01:32:05.520732Z",
     "shell.execute_reply": "2023-01-05T01:32:05.519880Z"
    },
    "papermill": {
     "duration": 0.013827,
     "end_time": "2023-01-05T01:32:05.522717",
     "exception": false,
     "start_time": "2023-01-05T01:32:05.508890",
     "status": "completed"
    },
    "tags": []
   },
   "outputs": [],
   "source": [
    "sub_df.to_csv('submission.csv', index=None)"
   ]
  },
  {
   "cell_type": "code",
   "execution_count": 16,
   "id": "322eeec4",
   "metadata": {
    "execution": {
     "iopub.execute_input": "2023-01-05T01:32:05.532992Z",
     "iopub.status.busy": "2023-01-05T01:32:05.532700Z",
     "iopub.status.idle": "2023-01-05T01:32:06.589800Z",
     "shell.execute_reply": "2023-01-05T01:32:06.588628Z"
    },
    "papermill": {
     "duration": 1.064847,
     "end_time": "2023-01-05T01:32:06.592299",
     "exception": false,
     "start_time": "2023-01-05T01:32:05.527452",
     "status": "completed"
    },
    "tags": []
   },
   "outputs": [
    {
     "name": "stdout",
     "output_type": "stream",
     "text": [
      "__notebook__.ipynb  submission.csv\r\n"
     ]
    }
   ],
   "source": [
    "!ls"
   ]
  },
  {
   "cell_type": "code",
   "execution_count": null,
   "id": "54ae2e43",
   "metadata": {
    "papermill": {
     "duration": 0.004526,
     "end_time": "2023-01-05T01:32:06.601635",
     "exception": false,
     "start_time": "2023-01-05T01:32:06.597109",
     "status": "completed"
    },
    "tags": []
   },
   "outputs": [],
   "source": []
  }
 ],
 "metadata": {
  "kernelspec": {
   "display_name": "Python 3",
   "language": "python",
   "name": "python3"
  },
  "language_info": {
   "codemirror_mode": {
    "name": "ipython",
    "version": 3
   },
   "file_extension": ".py",
   "mimetype": "text/x-python",
   "name": "python",
   "nbconvert_exporter": "python",
   "pygments_lexer": "ipython3",
   "version": "3.7.12"
  },
  "papermill": {
   "default_parameters": {},
   "duration": 78.367086,
   "end_time": "2023-01-05T01:32:09.826398",
   "environment_variables": {},
   "exception": null,
   "input_path": "__notebook__.ipynb",
   "output_path": "__notebook__.ipynb",
   "parameters": {},
   "start_time": "2023-01-05T01:30:51.459312",
   "version": "2.3.4"
  },
  "widgets": {
   "application/vnd.jupyter.widget-state+json": {
    "state": {
     "00c420e419584673a6ad65d7f5603168": {
      "model_module": "@jupyter-widgets/controls",
      "model_module_version": "1.5.0",
      "model_name": "HTMLModel",
      "state": {
       "_dom_classes": [],
       "_model_module": "@jupyter-widgets/controls",
       "_model_module_version": "1.5.0",
       "_model_name": "HTMLModel",
       "_view_count": null,
       "_view_module": "@jupyter-widgets/controls",
       "_view_module_version": "1.5.0",
       "_view_name": "HTMLView",
       "description": "",
       "description_tooltip": null,
       "layout": "IPY_MODEL_a3d051ef258a4f9899e7e426b33cf6b3",
       "placeholder": "​",
       "style": "IPY_MODEL_f9a7d4fad9074b4fb47bd2d9b73352a5",
       "value": " 5/5 [00:00&lt;00:00, 138.96it/s]"
      }
     },
     "2f0ff406fb224570bb8449e7e35fccf8": {
      "model_module": "@jupyter-widgets/controls",
      "model_module_version": "1.5.0",
      "model_name": "HBoxModel",
      "state": {
       "_dom_classes": [],
       "_model_module": "@jupyter-widgets/controls",
       "_model_module_version": "1.5.0",
       "_model_name": "HBoxModel",
       "_view_count": null,
       "_view_module": "@jupyter-widgets/controls",
       "_view_module_version": "1.5.0",
       "_view_name": "HBoxView",
       "box_style": "",
       "children": [
        "IPY_MODEL_613cf92ec19744f9b871c96ac1d8f37a",
        "IPY_MODEL_77cd5f9daa9f4d5fa84c34d26d1dd269",
        "IPY_MODEL_00c420e419584673a6ad65d7f5603168"
       ],
       "layout": "IPY_MODEL_904b16728cf54c849a1c363466df6218"
      }
     },
     "3b4f563b80094b108d99eefa549eea05": {
      "model_module": "@jupyter-widgets/controls",
      "model_module_version": "1.5.0",
      "model_name": "ProgressStyleModel",
      "state": {
       "_model_module": "@jupyter-widgets/controls",
       "_model_module_version": "1.5.0",
       "_model_name": "ProgressStyleModel",
       "_view_count": null,
       "_view_module": "@jupyter-widgets/base",
       "_view_module_version": "1.2.0",
       "_view_name": "StyleView",
       "bar_color": null,
       "description_width": ""
      }
     },
     "5bca29e5cc6b46ecaf208c9697436fc1": {
      "model_module": "@jupyter-widgets/base",
      "model_module_version": "1.2.0",
      "model_name": "LayoutModel",
      "state": {
       "_model_module": "@jupyter-widgets/base",
       "_model_module_version": "1.2.0",
       "_model_name": "LayoutModel",
       "_view_count": null,
       "_view_module": "@jupyter-widgets/base",
       "_view_module_version": "1.2.0",
       "_view_name": "LayoutView",
       "align_content": null,
       "align_items": null,
       "align_self": null,
       "border": null,
       "bottom": null,
       "display": null,
       "flex": null,
       "flex_flow": null,
       "grid_area": null,
       "grid_auto_columns": null,
       "grid_auto_flow": null,
       "grid_auto_rows": null,
       "grid_column": null,
       "grid_gap": null,
       "grid_row": null,
       "grid_template_areas": null,
       "grid_template_columns": null,
       "grid_template_rows": null,
       "height": null,
       "justify_content": null,
       "justify_items": null,
       "left": null,
       "margin": null,
       "max_height": null,
       "max_width": null,
       "min_height": null,
       "min_width": null,
       "object_fit": null,
       "object_position": null,
       "order": null,
       "overflow": null,
       "overflow_x": null,
       "overflow_y": null,
       "padding": null,
       "right": null,
       "top": null,
       "visibility": null,
       "width": null
      }
     },
     "5f066ab7b4184778980068eff970027f": {
      "model_module": "@jupyter-widgets/controls",
      "model_module_version": "1.5.0",
      "model_name": "ProgressStyleModel",
      "state": {
       "_model_module": "@jupyter-widgets/controls",
       "_model_module_version": "1.5.0",
       "_model_name": "ProgressStyleModel",
       "_view_count": null,
       "_view_module": "@jupyter-widgets/base",
       "_view_module_version": "1.2.0",
       "_view_name": "StyleView",
       "bar_color": null,
       "description_width": ""
      }
     },
     "613cf92ec19744f9b871c96ac1d8f37a": {
      "model_module": "@jupyter-widgets/controls",
      "model_module_version": "1.5.0",
      "model_name": "HTMLModel",
      "state": {
       "_dom_classes": [],
       "_model_module": "@jupyter-widgets/controls",
       "_model_module_version": "1.5.0",
       "_model_name": "HTMLModel",
       "_view_count": null,
       "_view_module": "@jupyter-widgets/controls",
       "_view_module_version": "1.5.0",
       "_view_name": "HTMLView",
       "description": "",
       "description_tooltip": null,
       "layout": "IPY_MODEL_5bca29e5cc6b46ecaf208c9697436fc1",
       "placeholder": "​",
       "style": "IPY_MODEL_9977101701414ca08761076b01b2060c",
       "value": "100%"
      }
     },
     "653dd822a664435e80f3a73a7a740733": {
      "model_module": "@jupyter-widgets/base",
      "model_module_version": "1.2.0",
      "model_name": "LayoutModel",
      "state": {
       "_model_module": "@jupyter-widgets/base",
       "_model_module_version": "1.2.0",
       "_model_name": "LayoutModel",
       "_view_count": null,
       "_view_module": "@jupyter-widgets/base",
       "_view_module_version": "1.2.0",
       "_view_name": "LayoutView",
       "align_content": null,
       "align_items": null,
       "align_self": null,
       "border": null,
       "bottom": null,
       "display": null,
       "flex": null,
       "flex_flow": null,
       "grid_area": null,
       "grid_auto_columns": null,
       "grid_auto_flow": null,
       "grid_auto_rows": null,
       "grid_column": null,
       "grid_gap": null,
       "grid_row": null,
       "grid_template_areas": null,
       "grid_template_columns": null,
       "grid_template_rows": null,
       "height": null,
       "justify_content": null,
       "justify_items": null,
       "left": null,
       "margin": null,
       "max_height": null,
       "max_width": null,
       "min_height": null,
       "min_width": null,
       "object_fit": null,
       "object_position": null,
       "order": null,
       "overflow": null,
       "overflow_x": null,
       "overflow_y": null,
       "padding": null,
       "right": null,
       "top": null,
       "visibility": null,
       "width": null
      }
     },
     "77cd5f9daa9f4d5fa84c34d26d1dd269": {
      "model_module": "@jupyter-widgets/controls",
      "model_module_version": "1.5.0",
      "model_name": "FloatProgressModel",
      "state": {
       "_dom_classes": [],
       "_model_module": "@jupyter-widgets/controls",
       "_model_module_version": "1.5.0",
       "_model_name": "FloatProgressModel",
       "_view_count": null,
       "_view_module": "@jupyter-widgets/controls",
       "_view_module_version": "1.5.0",
       "_view_name": "ProgressView",
       "bar_style": "success",
       "description": "",
       "description_tooltip": null,
       "layout": "IPY_MODEL_9f92cfd81be548b4a6912befc1ae6fd2",
       "max": 5.0,
       "min": 0.0,
       "orientation": "horizontal",
       "style": "IPY_MODEL_5f066ab7b4184778980068eff970027f",
       "value": 5.0
      }
     },
     "783972fcd6d54f6aa5370cc014191e34": {
      "model_module": "@jupyter-widgets/controls",
      "model_module_version": "1.5.0",
      "model_name": "HTMLModel",
      "state": {
       "_dom_classes": [],
       "_model_module": "@jupyter-widgets/controls",
       "_model_module_version": "1.5.0",
       "_model_name": "HTMLModel",
       "_view_count": null,
       "_view_module": "@jupyter-widgets/controls",
       "_view_module_version": "1.5.0",
       "_view_name": "HTMLView",
       "description": "",
       "description_tooltip": null,
       "layout": "IPY_MODEL_c3c8d5ceaae1400abc8aac270229d8e7",
       "placeholder": "​",
       "style": "IPY_MODEL_a78c6fbeb1ac47799e3a7fcf0f511380",
       "value": "100%"
      }
     },
     "815c0f188e2b46be97eae43e78d4a78b": {
      "model_module": "@jupyter-widgets/controls",
      "model_module_version": "1.5.0",
      "model_name": "HTMLModel",
      "state": {
       "_dom_classes": [],
       "_model_module": "@jupyter-widgets/controls",
       "_model_module_version": "1.5.0",
       "_model_name": "HTMLModel",
       "_view_count": null,
       "_view_module": "@jupyter-widgets/controls",
       "_view_module_version": "1.5.0",
       "_view_name": "HTMLView",
       "description": "",
       "description_tooltip": null,
       "layout": "IPY_MODEL_c274395b1618471f87a7e6435bdadd88",
       "placeholder": "​",
       "style": "IPY_MODEL_ada956fe76b04650b5bc7c547830e06e",
       "value": " 154047/154047 [00:11&lt;00:00, 14090.29it/s]"
      }
     },
     "82f8861f2d164f38b28422143a11c7b1": {
      "model_module": "@jupyter-widgets/controls",
      "model_module_version": "1.5.0",
      "model_name": "FloatProgressModel",
      "state": {
       "_dom_classes": [],
       "_model_module": "@jupyter-widgets/controls",
       "_model_module_version": "1.5.0",
       "_model_name": "FloatProgressModel",
       "_view_count": null,
       "_view_module": "@jupyter-widgets/controls",
       "_view_module_version": "1.5.0",
       "_view_name": "ProgressView",
       "bar_style": "success",
       "description": "",
       "description_tooltip": null,
       "layout": "IPY_MODEL_a36beb8c05e949b5af7cbbbe1811aa7d",
       "max": 154047.0,
       "min": 0.0,
       "orientation": "horizontal",
       "style": "IPY_MODEL_3b4f563b80094b108d99eefa549eea05",
       "value": 154047.0
      }
     },
     "8f405656ece14e5aa312e1d7faad683c": {
      "model_module": "@jupyter-widgets/controls",
      "model_module_version": "1.5.0",
      "model_name": "HBoxModel",
      "state": {
       "_dom_classes": [],
       "_model_module": "@jupyter-widgets/controls",
       "_model_module_version": "1.5.0",
       "_model_name": "HBoxModel",
       "_view_count": null,
       "_view_module": "@jupyter-widgets/controls",
       "_view_module_version": "1.5.0",
       "_view_name": "HBoxView",
       "box_style": "",
       "children": [
        "IPY_MODEL_783972fcd6d54f6aa5370cc014191e34",
        "IPY_MODEL_82f8861f2d164f38b28422143a11c7b1",
        "IPY_MODEL_815c0f188e2b46be97eae43e78d4a78b"
       ],
       "layout": "IPY_MODEL_653dd822a664435e80f3a73a7a740733"
      }
     },
     "904b16728cf54c849a1c363466df6218": {
      "model_module": "@jupyter-widgets/base",
      "model_module_version": "1.2.0",
      "model_name": "LayoutModel",
      "state": {
       "_model_module": "@jupyter-widgets/base",
       "_model_module_version": "1.2.0",
       "_model_name": "LayoutModel",
       "_view_count": null,
       "_view_module": "@jupyter-widgets/base",
       "_view_module_version": "1.2.0",
       "_view_name": "LayoutView",
       "align_content": null,
       "align_items": null,
       "align_self": null,
       "border": null,
       "bottom": null,
       "display": null,
       "flex": null,
       "flex_flow": null,
       "grid_area": null,
       "grid_auto_columns": null,
       "grid_auto_flow": null,
       "grid_auto_rows": null,
       "grid_column": null,
       "grid_gap": null,
       "grid_row": null,
       "grid_template_areas": null,
       "grid_template_columns": null,
       "grid_template_rows": null,
       "height": null,
       "justify_content": null,
       "justify_items": null,
       "left": null,
       "margin": null,
       "max_height": null,
       "max_width": null,
       "min_height": null,
       "min_width": null,
       "object_fit": null,
       "object_position": null,
       "order": null,
       "overflow": null,
       "overflow_x": null,
       "overflow_y": null,
       "padding": null,
       "right": null,
       "top": null,
       "visibility": null,
       "width": null
      }
     },
     "9977101701414ca08761076b01b2060c": {
      "model_module": "@jupyter-widgets/controls",
      "model_module_version": "1.5.0",
      "model_name": "DescriptionStyleModel",
      "state": {
       "_model_module": "@jupyter-widgets/controls",
       "_model_module_version": "1.5.0",
       "_model_name": "DescriptionStyleModel",
       "_view_count": null,
       "_view_module": "@jupyter-widgets/base",
       "_view_module_version": "1.2.0",
       "_view_name": "StyleView",
       "description_width": ""
      }
     },
     "9f92cfd81be548b4a6912befc1ae6fd2": {
      "model_module": "@jupyter-widgets/base",
      "model_module_version": "1.2.0",
      "model_name": "LayoutModel",
      "state": {
       "_model_module": "@jupyter-widgets/base",
       "_model_module_version": "1.2.0",
       "_model_name": "LayoutModel",
       "_view_count": null,
       "_view_module": "@jupyter-widgets/base",
       "_view_module_version": "1.2.0",
       "_view_name": "LayoutView",
       "align_content": null,
       "align_items": null,
       "align_self": null,
       "border": null,
       "bottom": null,
       "display": null,
       "flex": null,
       "flex_flow": null,
       "grid_area": null,
       "grid_auto_columns": null,
       "grid_auto_flow": null,
       "grid_auto_rows": null,
       "grid_column": null,
       "grid_gap": null,
       "grid_row": null,
       "grid_template_areas": null,
       "grid_template_columns": null,
       "grid_template_rows": null,
       "height": null,
       "justify_content": null,
       "justify_items": null,
       "left": null,
       "margin": null,
       "max_height": null,
       "max_width": null,
       "min_height": null,
       "min_width": null,
       "object_fit": null,
       "object_position": null,
       "order": null,
       "overflow": null,
       "overflow_x": null,
       "overflow_y": null,
       "padding": null,
       "right": null,
       "top": null,
       "visibility": null,
       "width": null
      }
     },
     "a36beb8c05e949b5af7cbbbe1811aa7d": {
      "model_module": "@jupyter-widgets/base",
      "model_module_version": "1.2.0",
      "model_name": "LayoutModel",
      "state": {
       "_model_module": "@jupyter-widgets/base",
       "_model_module_version": "1.2.0",
       "_model_name": "LayoutModel",
       "_view_count": null,
       "_view_module": "@jupyter-widgets/base",
       "_view_module_version": "1.2.0",
       "_view_name": "LayoutView",
       "align_content": null,
       "align_items": null,
       "align_self": null,
       "border": null,
       "bottom": null,
       "display": null,
       "flex": null,
       "flex_flow": null,
       "grid_area": null,
       "grid_auto_columns": null,
       "grid_auto_flow": null,
       "grid_auto_rows": null,
       "grid_column": null,
       "grid_gap": null,
       "grid_row": null,
       "grid_template_areas": null,
       "grid_template_columns": null,
       "grid_template_rows": null,
       "height": null,
       "justify_content": null,
       "justify_items": null,
       "left": null,
       "margin": null,
       "max_height": null,
       "max_width": null,
       "min_height": null,
       "min_width": null,
       "object_fit": null,
       "object_position": null,
       "order": null,
       "overflow": null,
       "overflow_x": null,
       "overflow_y": null,
       "padding": null,
       "right": null,
       "top": null,
       "visibility": null,
       "width": null
      }
     },
     "a3d051ef258a4f9899e7e426b33cf6b3": {
      "model_module": "@jupyter-widgets/base",
      "model_module_version": "1.2.0",
      "model_name": "LayoutModel",
      "state": {
       "_model_module": "@jupyter-widgets/base",
       "_model_module_version": "1.2.0",
       "_model_name": "LayoutModel",
       "_view_count": null,
       "_view_module": "@jupyter-widgets/base",
       "_view_module_version": "1.2.0",
       "_view_name": "LayoutView",
       "align_content": null,
       "align_items": null,
       "align_self": null,
       "border": null,
       "bottom": null,
       "display": null,
       "flex": null,
       "flex_flow": null,
       "grid_area": null,
       "grid_auto_columns": null,
       "grid_auto_flow": null,
       "grid_auto_rows": null,
       "grid_column": null,
       "grid_gap": null,
       "grid_row": null,
       "grid_template_areas": null,
       "grid_template_columns": null,
       "grid_template_rows": null,
       "height": null,
       "justify_content": null,
       "justify_items": null,
       "left": null,
       "margin": null,
       "max_height": null,
       "max_width": null,
       "min_height": null,
       "min_width": null,
       "object_fit": null,
       "object_position": null,
       "order": null,
       "overflow": null,
       "overflow_x": null,
       "overflow_y": null,
       "padding": null,
       "right": null,
       "top": null,
       "visibility": null,
       "width": null
      }
     },
     "a78c6fbeb1ac47799e3a7fcf0f511380": {
      "model_module": "@jupyter-widgets/controls",
      "model_module_version": "1.5.0",
      "model_name": "DescriptionStyleModel",
      "state": {
       "_model_module": "@jupyter-widgets/controls",
       "_model_module_version": "1.5.0",
       "_model_name": "DescriptionStyleModel",
       "_view_count": null,
       "_view_module": "@jupyter-widgets/base",
       "_view_module_version": "1.2.0",
       "_view_name": "StyleView",
       "description_width": ""
      }
     },
     "ada956fe76b04650b5bc7c547830e06e": {
      "model_module": "@jupyter-widgets/controls",
      "model_module_version": "1.5.0",
      "model_name": "DescriptionStyleModel",
      "state": {
       "_model_module": "@jupyter-widgets/controls",
       "_model_module_version": "1.5.0",
       "_model_name": "DescriptionStyleModel",
       "_view_count": null,
       "_view_module": "@jupyter-widgets/base",
       "_view_module_version": "1.2.0",
       "_view_name": "StyleView",
       "description_width": ""
      }
     },
     "c274395b1618471f87a7e6435bdadd88": {
      "model_module": "@jupyter-widgets/base",
      "model_module_version": "1.2.0",
      "model_name": "LayoutModel",
      "state": {
       "_model_module": "@jupyter-widgets/base",
       "_model_module_version": "1.2.0",
       "_model_name": "LayoutModel",
       "_view_count": null,
       "_view_module": "@jupyter-widgets/base",
       "_view_module_version": "1.2.0",
       "_view_name": "LayoutView",
       "align_content": null,
       "align_items": null,
       "align_self": null,
       "border": null,
       "bottom": null,
       "display": null,
       "flex": null,
       "flex_flow": null,
       "grid_area": null,
       "grid_auto_columns": null,
       "grid_auto_flow": null,
       "grid_auto_rows": null,
       "grid_column": null,
       "grid_gap": null,
       "grid_row": null,
       "grid_template_areas": null,
       "grid_template_columns": null,
       "grid_template_rows": null,
       "height": null,
       "justify_content": null,
       "justify_items": null,
       "left": null,
       "margin": null,
       "max_height": null,
       "max_width": null,
       "min_height": null,
       "min_width": null,
       "object_fit": null,
       "object_position": null,
       "order": null,
       "overflow": null,
       "overflow_x": null,
       "overflow_y": null,
       "padding": null,
       "right": null,
       "top": null,
       "visibility": null,
       "width": null
      }
     },
     "c3c8d5ceaae1400abc8aac270229d8e7": {
      "model_module": "@jupyter-widgets/base",
      "model_module_version": "1.2.0",
      "model_name": "LayoutModel",
      "state": {
       "_model_module": "@jupyter-widgets/base",
       "_model_module_version": "1.2.0",
       "_model_name": "LayoutModel",
       "_view_count": null,
       "_view_module": "@jupyter-widgets/base",
       "_view_module_version": "1.2.0",
       "_view_name": "LayoutView",
       "align_content": null,
       "align_items": null,
       "align_self": null,
       "border": null,
       "bottom": null,
       "display": null,
       "flex": null,
       "flex_flow": null,
       "grid_area": null,
       "grid_auto_columns": null,
       "grid_auto_flow": null,
       "grid_auto_rows": null,
       "grid_column": null,
       "grid_gap": null,
       "grid_row": null,
       "grid_template_areas": null,
       "grid_template_columns": null,
       "grid_template_rows": null,
       "height": null,
       "justify_content": null,
       "justify_items": null,
       "left": null,
       "margin": null,
       "max_height": null,
       "max_width": null,
       "min_height": null,
       "min_width": null,
       "object_fit": null,
       "object_position": null,
       "order": null,
       "overflow": null,
       "overflow_x": null,
       "overflow_y": null,
       "padding": null,
       "right": null,
       "top": null,
       "visibility": null,
       "width": null
      }
     },
     "f9a7d4fad9074b4fb47bd2d9b73352a5": {
      "model_module": "@jupyter-widgets/controls",
      "model_module_version": "1.5.0",
      "model_name": "DescriptionStyleModel",
      "state": {
       "_model_module": "@jupyter-widgets/controls",
       "_model_module_version": "1.5.0",
       "_model_name": "DescriptionStyleModel",
       "_view_count": null,
       "_view_module": "@jupyter-widgets/base",
       "_view_module_version": "1.2.0",
       "_view_name": "StyleView",
       "description_width": ""
      }
     }
    },
    "version_major": 2,
    "version_minor": 0
   }
  }
 },
 "nbformat": 4,
 "nbformat_minor": 5
}
